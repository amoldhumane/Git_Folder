{
 "cells": [
  {
   "cell_type": "code",
   "execution_count": 1,
   "id": "e50b4a79",
   "metadata": {},
   "outputs": [],
   "source": [
    "import numpy as np\n",
    "import pandas as pd"
   ]
  },
  {
   "cell_type": "code",
   "execution_count": 2,
   "id": "0b018ff6",
   "metadata": {},
   "outputs": [],
   "source": [
    "df=pd.read_csv('D:\\\\Datasets\\\\Logistic Regression\\\\Social_Network_Ads.csv')"
   ]
  },
  {
   "cell_type": "code",
   "execution_count": 3,
   "id": "bfacbdac",
   "metadata": {},
   "outputs": [
    {
     "data": {
      "text/html": [
       "<div>\n",
       "<style scoped>\n",
       "    .dataframe tbody tr th:only-of-type {\n",
       "        vertical-align: middle;\n",
       "    }\n",
       "\n",
       "    .dataframe tbody tr th {\n",
       "        vertical-align: top;\n",
       "    }\n",
       "\n",
       "    .dataframe thead th {\n",
       "        text-align: right;\n",
       "    }\n",
       "</style>\n",
       "<table border=\"1\" class=\"dataframe\">\n",
       "  <thead>\n",
       "    <tr style=\"text-align: right;\">\n",
       "      <th></th>\n",
       "      <th>Age</th>\n",
       "      <th>EstimatedSalary</th>\n",
       "      <th>Purchased</th>\n",
       "    </tr>\n",
       "  </thead>\n",
       "  <tbody>\n",
       "    <tr>\n",
       "      <th>0</th>\n",
       "      <td>19</td>\n",
       "      <td>19000</td>\n",
       "      <td>0</td>\n",
       "    </tr>\n",
       "    <tr>\n",
       "      <th>1</th>\n",
       "      <td>35</td>\n",
       "      <td>20000</td>\n",
       "      <td>0</td>\n",
       "    </tr>\n",
       "    <tr>\n",
       "      <th>2</th>\n",
       "      <td>26</td>\n",
       "      <td>43000</td>\n",
       "      <td>0</td>\n",
       "    </tr>\n",
       "    <tr>\n",
       "      <th>3</th>\n",
       "      <td>27</td>\n",
       "      <td>57000</td>\n",
       "      <td>0</td>\n",
       "    </tr>\n",
       "    <tr>\n",
       "      <th>4</th>\n",
       "      <td>19</td>\n",
       "      <td>76000</td>\n",
       "      <td>0</td>\n",
       "    </tr>\n",
       "    <tr>\n",
       "      <th>...</th>\n",
       "      <td>...</td>\n",
       "      <td>...</td>\n",
       "      <td>...</td>\n",
       "    </tr>\n",
       "    <tr>\n",
       "      <th>395</th>\n",
       "      <td>46</td>\n",
       "      <td>41000</td>\n",
       "      <td>1</td>\n",
       "    </tr>\n",
       "    <tr>\n",
       "      <th>396</th>\n",
       "      <td>51</td>\n",
       "      <td>23000</td>\n",
       "      <td>1</td>\n",
       "    </tr>\n",
       "    <tr>\n",
       "      <th>397</th>\n",
       "      <td>50</td>\n",
       "      <td>20000</td>\n",
       "      <td>1</td>\n",
       "    </tr>\n",
       "    <tr>\n",
       "      <th>398</th>\n",
       "      <td>36</td>\n",
       "      <td>33000</td>\n",
       "      <td>0</td>\n",
       "    </tr>\n",
       "    <tr>\n",
       "      <th>399</th>\n",
       "      <td>49</td>\n",
       "      <td>36000</td>\n",
       "      <td>1</td>\n",
       "    </tr>\n",
       "  </tbody>\n",
       "</table>\n",
       "<p>400 rows × 3 columns</p>\n",
       "</div>"
      ],
      "text/plain": [
       "     Age  EstimatedSalary  Purchased\n",
       "0     19            19000          0\n",
       "1     35            20000          0\n",
       "2     26            43000          0\n",
       "3     27            57000          0\n",
       "4     19            76000          0\n",
       "..   ...              ...        ...\n",
       "395   46            41000          1\n",
       "396   51            23000          1\n",
       "397   50            20000          1\n",
       "398   36            33000          0\n",
       "399   49            36000          1\n",
       "\n",
       "[400 rows x 3 columns]"
      ]
     },
     "execution_count": 3,
     "metadata": {},
     "output_type": "execute_result"
    }
   ],
   "source": [
    "df"
   ]
  },
  {
   "cell_type": "code",
   "execution_count": 4,
   "id": "201d30c8",
   "metadata": {},
   "outputs": [
    {
     "data": {
      "text/html": [
       "<div>\n",
       "<style scoped>\n",
       "    .dataframe tbody tr th:only-of-type {\n",
       "        vertical-align: middle;\n",
       "    }\n",
       "\n",
       "    .dataframe tbody tr th {\n",
       "        vertical-align: top;\n",
       "    }\n",
       "\n",
       "    .dataframe thead th {\n",
       "        text-align: right;\n",
       "    }\n",
       "</style>\n",
       "<table border=\"1\" class=\"dataframe\">\n",
       "  <thead>\n",
       "    <tr style=\"text-align: right;\">\n",
       "      <th></th>\n",
       "      <th>Age</th>\n",
       "      <th>EstimatedSalary</th>\n",
       "      <th>Purchased</th>\n",
       "    </tr>\n",
       "  </thead>\n",
       "  <tbody>\n",
       "    <tr>\n",
       "      <th>0</th>\n",
       "      <td>19</td>\n",
       "      <td>19000</td>\n",
       "      <td>0</td>\n",
       "    </tr>\n",
       "    <tr>\n",
       "      <th>1</th>\n",
       "      <td>35</td>\n",
       "      <td>20000</td>\n",
       "      <td>0</td>\n",
       "    </tr>\n",
       "    <tr>\n",
       "      <th>2</th>\n",
       "      <td>26</td>\n",
       "      <td>43000</td>\n",
       "      <td>0</td>\n",
       "    </tr>\n",
       "    <tr>\n",
       "      <th>3</th>\n",
       "      <td>27</td>\n",
       "      <td>57000</td>\n",
       "      <td>0</td>\n",
       "    </tr>\n",
       "    <tr>\n",
       "      <th>4</th>\n",
       "      <td>19</td>\n",
       "      <td>76000</td>\n",
       "      <td>0</td>\n",
       "    </tr>\n",
       "  </tbody>\n",
       "</table>\n",
       "</div>"
      ],
      "text/plain": [
       "   Age  EstimatedSalary  Purchased\n",
       "0   19            19000          0\n",
       "1   35            20000          0\n",
       "2   26            43000          0\n",
       "3   27            57000          0\n",
       "4   19            76000          0"
      ]
     },
     "execution_count": 4,
     "metadata": {},
     "output_type": "execute_result"
    }
   ],
   "source": [
    "df.head()"
   ]
  },
  {
   "cell_type": "code",
   "execution_count": 5,
   "id": "6e30fdb9",
   "metadata": {},
   "outputs": [
    {
     "data": {
      "text/html": [
       "<div>\n",
       "<style scoped>\n",
       "    .dataframe tbody tr th:only-of-type {\n",
       "        vertical-align: middle;\n",
       "    }\n",
       "\n",
       "    .dataframe tbody tr th {\n",
       "        vertical-align: top;\n",
       "    }\n",
       "\n",
       "    .dataframe thead th {\n",
       "        text-align: right;\n",
       "    }\n",
       "</style>\n",
       "<table border=\"1\" class=\"dataframe\">\n",
       "  <thead>\n",
       "    <tr style=\"text-align: right;\">\n",
       "      <th></th>\n",
       "      <th>Age</th>\n",
       "      <th>EstimatedSalary</th>\n",
       "      <th>Purchased</th>\n",
       "    </tr>\n",
       "  </thead>\n",
       "  <tbody>\n",
       "    <tr>\n",
       "      <th>395</th>\n",
       "      <td>46</td>\n",
       "      <td>41000</td>\n",
       "      <td>1</td>\n",
       "    </tr>\n",
       "    <tr>\n",
       "      <th>396</th>\n",
       "      <td>51</td>\n",
       "      <td>23000</td>\n",
       "      <td>1</td>\n",
       "    </tr>\n",
       "    <tr>\n",
       "      <th>397</th>\n",
       "      <td>50</td>\n",
       "      <td>20000</td>\n",
       "      <td>1</td>\n",
       "    </tr>\n",
       "    <tr>\n",
       "      <th>398</th>\n",
       "      <td>36</td>\n",
       "      <td>33000</td>\n",
       "      <td>0</td>\n",
       "    </tr>\n",
       "    <tr>\n",
       "      <th>399</th>\n",
       "      <td>49</td>\n",
       "      <td>36000</td>\n",
       "      <td>1</td>\n",
       "    </tr>\n",
       "  </tbody>\n",
       "</table>\n",
       "</div>"
      ],
      "text/plain": [
       "     Age  EstimatedSalary  Purchased\n",
       "395   46            41000          1\n",
       "396   51            23000          1\n",
       "397   50            20000          1\n",
       "398   36            33000          0\n",
       "399   49            36000          1"
      ]
     },
     "execution_count": 5,
     "metadata": {},
     "output_type": "execute_result"
    }
   ],
   "source": [
    "df.tail()"
   ]
  },
  {
   "cell_type": "code",
   "execution_count": 6,
   "id": "33067fba",
   "metadata": {},
   "outputs": [],
   "source": [
    "## lets analyse the data with the help of plotting"
   ]
  },
  {
   "cell_type": "code",
   "execution_count": 7,
   "id": "16245465",
   "metadata": {},
   "outputs": [],
   "source": [
    "import matplotlib.pyplot as plt"
   ]
  },
  {
   "cell_type": "code",
   "execution_count": 8,
   "id": "40738baf",
   "metadata": {},
   "outputs": [],
   "source": [
    "X=df['Age']\n",
    "Y=df['EstimatedSalary']\n",
    "z=df['Purchased']"
   ]
  },
  {
   "cell_type": "code",
   "execution_count": 9,
   "id": "7acdc35e",
   "metadata": {},
   "outputs": [],
   "source": [
    "cnt=0\n",
    "X_redx=[]\n",
    "X_bluex=[]\n",
    "X_redy=[]\n",
    "X_bluey=[]\n",
    "for i in df['Purchased']:\n",
    "    if i==0:\n",
    "        X_redx.append(df.iloc[cnt][0])\n",
    "        X_redy.append(df.iloc[cnt][1])\n",
    "        \n",
    "    else:\n",
    "        X_bluex.append(df.iloc[cnt][0])\n",
    "        X_bluey.append(df.iloc[cnt][1])\n",
    "\n",
    "    cnt+=1"
   ]
  },
  {
   "cell_type": "code",
   "execution_count": 10,
   "id": "c6047402",
   "metadata": {},
   "outputs": [
    {
     "data": {
      "text/plain": [
       "(257, 143)"
      ]
     },
     "execution_count": 10,
     "metadata": {},
     "output_type": "execute_result"
    }
   ],
   "source": [
    "len(X_redx),len(X_bluex),"
   ]
  },
  {
   "cell_type": "code",
   "execution_count": 11,
   "id": "b9437615",
   "metadata": {},
   "outputs": [
    {
     "data": {
      "text/plain": [
       "(257, 143)"
      ]
     },
     "execution_count": 11,
     "metadata": {},
     "output_type": "execute_result"
    }
   ],
   "source": [
    "len(X_redy),len(X_bluey),"
   ]
  },
  {
   "cell_type": "code",
   "execution_count": 12,
   "id": "4cb2ac7a",
   "metadata": {},
   "outputs": [
    {
     "data": {
      "text/plain": [
       "<matplotlib.legend.Legend at 0x174270b0d60>"
      ]
     },
     "execution_count": 12,
     "metadata": {},
     "output_type": "execute_result"
    },
    {
     "data": {
      "image/png": "[encoded data removed]",
      "text/plain": [
       "<Figure size 432x288 with 1 Axes>"
      ]
     },
     "metadata": {
      "needs_background": "light"
     },
     "output_type": "display_data"
    }
   ],
   "source": [
    "plt.scatter(X_redx,X_redy,c='red')\n",
    "plt.scatter(X_bluex,X_bluey,c='blue')\n",
    "plt.xlabel('Age')\n",
    "plt.ylabel('Salary')\n",
    "plt.legend(['Can not purchase','Can Purchase'])"
   ]
  },
  {
   "cell_type": "code",
   "execution_count": 13,
   "id": "30ecd7f1",
   "metadata": {},
   "outputs": [],
   "source": [
    "from sklearn.preprocessing import MinMaxScaler"
   ]
  },
  {
   "cell_type": "code",
   "execution_count": 14,
   "id": "108b5d86",
   "metadata": {},
   "outputs": [],
   "source": [
    "scalar=MinMaxScaler()"
   ]
  },
  {
   "cell_type": "code",
   "execution_count": 15,
   "id": "2ed56c7f",
   "metadata": {},
   "outputs": [
    {
     "data": {
      "text/plain": [
       "MinMaxScaler()"
      ]
     },
     "execution_count": 15,
     "metadata": {},
     "output_type": "execute_result"
    }
   ],
   "source": [
    "scalar.fit(df[['Age','EstimatedSalary']])"
   ]
  },
  {
   "cell_type": "code",
   "execution_count": 16,
   "id": "bd995b4b",
   "metadata": {},
   "outputs": [],
   "source": [
    "X=scalar.transform(df[['Age','EstimatedSalary']])"
   ]
  },
  {
   "cell_type": "code",
   "execution_count": 17,
   "id": "08fce4b8",
   "metadata": {},
   "outputs": [
    {
     "data": {
      "text/plain": [
       "array([[0.02380952, 0.02962963],\n",
       "       [0.4047619 , 0.03703704],\n",
       "       [0.19047619, 0.20740741],\n",
       "       [0.21428571, 0.31111111],\n",
       "       [0.02380952, 0.45185185],\n",
       "       [0.21428571, 0.31851852],\n",
       "       [0.21428571, 0.51111111],\n",
       "       [0.33333333, 1.        ],\n",
       "       [0.16666667, 0.13333333],\n",
       "       [0.4047619 , 0.37037037],\n",
       "       [0.19047619, 0.48148148],\n",
       "       [0.19047619, 0.27407407],\n",
       "       [0.04761905, 0.52592593],\n",
       "       [0.33333333, 0.02222222],\n",
       "       [0.        , 0.4962963 ],\n",
       "       [0.26190476, 0.48148148],\n",
       "       [0.69047619, 0.07407407],\n",
       "       [0.64285714, 0.08148148],\n",
       "       [0.66666667, 0.0962963 ],\n",
       "       [0.71428571, 0.1037037 ],\n",
       "       [0.64285714, 0.05185185],\n",
       "       [0.69047619, 0.25185185],\n",
       "       [0.71428571, 0.19259259],\n",
       "       [0.64285714, 0.05185185],\n",
       "       [0.66666667, 0.05925926],\n",
       "       [0.69047619, 0.03703704],\n",
       "       [0.73809524, 0.0962963 ],\n",
       "       [0.69047619, 0.11111111],\n",
       "       [0.26190476, 0.20740741],\n",
       "       [0.30952381, 0.02222222],\n",
       "       [0.30952381, 0.43703704],\n",
       "       [0.21428571, 0.9037037 ],\n",
       "       [0.07142857, 0.00740741],\n",
       "       [0.23809524, 0.21481481],\n",
       "       [0.21428571, 0.55555556],\n",
       "       [0.4047619 , 0.08888889],\n",
       "       [0.35714286, 0.0962963 ],\n",
       "       [0.28571429, 0.25185185],\n",
       "       [0.19047619, 0.42222222],\n",
       "       [0.21428571, 0.11851852],\n",
       "       [0.21428571, 0.01481481],\n",
       "       [0.35714286, 0.26666667],\n",
       "       [0.4047619 , 0.68888889],\n",
       "       [0.28571429, 0.        ],\n",
       "       [0.23809524, 0.51111111],\n",
       "       [0.11904762, 0.03703704],\n",
       "       [0.16666667, 0.47407407],\n",
       "       [0.21428571, 0.28888889],\n",
       "       [0.28571429, 0.88888889],\n",
       "       [0.30952381, 0.54814815],\n",
       "       [0.14285714, 0.12592593],\n",
       "       [0.        , 0.21481481],\n",
       "       [0.26190476, 0.5037037 ],\n",
       "       [0.4047619 , 0.05925926],\n",
       "       [0.21428571, 0.31851852],\n",
       "       [0.14285714, 0.2962963 ],\n",
       "       [0.11904762, 0.24444444],\n",
       "       [0.23809524, 0.47407407],\n",
       "       [0.0952381 , 0.02222222],\n",
       "       [0.33333333, 0.75555556],\n",
       "       [0.21428571, 0.03703704],\n",
       "       [0.16666667, 0.53333333],\n",
       "       [0.11904762, 0.37777778],\n",
       "       [0.33333333, 0.77777778],\n",
       "       [0.97619048, 0.5037037 ],\n",
       "       [0.14285714, 0.31851852],\n",
       "       [0.14285714, 0.02962963],\n",
       "       [0.11904762, 0.4962963 ],\n",
       "       [0.0952381 , 0.35555556],\n",
       "       [0.30952381, 0.39259259],\n",
       "       [0.16666667, 0.48148148],\n",
       "       [0.14285714, 0.08888889],\n",
       "       [0.04761905, 0.05925926],\n",
       "       [0.35714286, 0.72592593],\n",
       "       [0.33333333, 0.02222222],\n",
       "       [0.38095238, 0.71851852],\n",
       "       [0.        , 0.27407407],\n",
       "       [0.0952381 , 0.08888889],\n",
       "       [0.23809524, 0.53333333],\n",
       "       [0.19047619, 0.01481481],\n",
       "       [0.28571429, 0.48148148],\n",
       "       [0.5       , 0.2       ],\n",
       "       [0.04761905, 0.25185185],\n",
       "       [0.4047619 , 0.54074074],\n",
       "       [0.28571429, 0.34814815],\n",
       "       [0.30952381, 0.76296296],\n",
       "       [0.14285714, 0.2962963 ],\n",
       "       [0.23809524, 0.51851852],\n",
       "       [0.19047619, 0.48888889],\n",
       "       [0.4047619 , 0.25925926],\n",
       "       [0.0952381 , 0.48888889],\n",
       "       [0.28571429, 0.74814815],\n",
       "       [0.19047619, 0.        ],\n",
       "       [0.26190476, 0.0962963 ],\n",
       "       [0.26190476, 0.5037037 ],\n",
       "       [0.4047619 , 0.21481481],\n",
       "       [0.4047619 , 0.07407407],\n",
       "       [0.23809524, 0.8       ],\n",
       "       [0.4047619 , 0.42962963],\n",
       "       [0.23809524, 0.16296296],\n",
       "       [0.21428571, 0.54074074],\n",
       "       [0.23809524, 0.32592593],\n",
       "       [0.33333333, 0.52592593],\n",
       "       [0.35714286, 0.99259259],\n",
       "       [0.02380952, 0.04444444],\n",
       "       [0.07142857, 0.42222222],\n",
       "       [0.19047619, 0.14814815],\n",
       "       [0.21428571, 0.54814815],\n",
       "       [0.19047619, 0.52592593],\n",
       "       [0.47619048, 0.48148148],\n",
       "       [0.5       , 0.41481481],\n",
       "       [0.45238095, 0.41481481],\n",
       "       [0.47619048, 0.34074074],\n",
       "       [0.45238095, 0.2962963 ],\n",
       "       [0.57142857, 0.48148148],\n",
       "       [0.52380952, 0.31111111],\n",
       "       [0.4047619 , 0.44444444],\n",
       "       [0.42857143, 0.27407407],\n",
       "       [0.52380952, 0.32592593],\n",
       "       [0.54761905, 0.32592593],\n",
       "       [0.42857143, 0.44444444],\n",
       "       [0.45238095, 0.42222222],\n",
       "       [0.52380952, 0.44444444],\n",
       "       [0.4047619 , 0.28148148],\n",
       "       [0.54761905, 0.26666667],\n",
       "       [0.5       , 0.34074074],\n",
       "       [0.57142857, 0.37037037],\n",
       "       [0.19047619, 0.12592593],\n",
       "       [0.28571429, 0.01481481],\n",
       "       [0.19047619, 0.51111111],\n",
       "       [0.30952381, 0.31851852],\n",
       "       [0.35714286, 0.11851852],\n",
       "       [0.28571429, 0.53333333],\n",
       "       [0.07142857, 0.39259259],\n",
       "       [0.23809524, 0.2962963 ],\n",
       "       [0.11904762, 0.35555556],\n",
       "       [0.04761905, 0.4962963 ],\n",
       "       [0.28571429, 0.68148148],\n",
       "       [0.23809524, 0.32592593],\n",
       "       [0.02380952, 0.07407407],\n",
       "       [0.02380952, 0.51851852],\n",
       "       [0.        , 0.39259259],\n",
       "       [0.4047619 , 0.32592593],\n",
       "       [0.28571429, 0.54814815],\n",
       "       [0.38095238, 0.07407407],\n",
       "       [0.14285714, 0.54814815],\n",
       "       [0.21428571, 0.6       ],\n",
       "       [0.54761905, 0.11111111],\n",
       "       [0.26190476, 0.34074074],\n",
       "       [0.04761905, 0.43703704],\n",
       "       [0.19047619, 0.        ],\n",
       "       [0.54761905, 0.22222222],\n",
       "       [0.30952381, 0.45185185],\n",
       "       [0.42857143, 0.25925926],\n",
       "       [0.52380952, 0.23703704],\n",
       "       [0.30952381, 0.        ],\n",
       "       [0.66666667, 0.32592593],\n",
       "       [0.26190476, 0.44444444],\n",
       "       [0.19047619, 0.11111111],\n",
       "       [0.33333333, 0.88888889],\n",
       "       [0.33333333, 0.62962963],\n",
       "       [0.16666667, 0.55555556],\n",
       "       [0.45238095, 0.13333333],\n",
       "       [0.4047619 , 0.17037037],\n",
       "       [0.35714286, 0.4       ],\n",
       "       [0.        , 0.52592593],\n",
       "       [0.0952381 , 0.2962963 ],\n",
       "       [0.4047619 , 0.41481481],\n",
       "       [0.26190476, 0.98518519],\n",
       "       [0.26190476, 0.23703704],\n",
       "       [0.07142857, 0.54074074],\n",
       "       [0.38095238, 0.74074074],\n",
       "       [0.19047619, 0.76296296],\n",
       "       [0.38095238, 0.20740741],\n",
       "       [0.38095238, 0.42222222],\n",
       "       [0.11904762, 0.0962963 ],\n",
       "       [0.4047619 , 0.23703704],\n",
       "       [0.16666667, 0.05185185],\n",
       "       [0.14285714, 0.05925926],\n",
       "       [0.30952381, 0.14074074],\n",
       "       [0.19047619, 0.00740741],\n",
       "       [0.30952381, 0.41481481],\n",
       "       [0.33333333, 0.75555556],\n",
       "       [0.35714286, 0.20740741],\n",
       "       [0.35714286, 0.33333333],\n",
       "       [0.30952381, 0.37777778],\n",
       "       [0.04761905, 0.4962963 ],\n",
       "       [0.35714286, 0.19259259],\n",
       "       [0.4047619 , 0.42222222],\n",
       "       [0.23809524, 0.12592593],\n",
       "       [0.14285714, 0.51111111],\n",
       "       [0.02380952, 0.08148148],\n",
       "       [0.26190476, 0.20740741],\n",
       "       [0.02380952, 0.40740741],\n",
       "       [0.23809524, 0.54814815],\n",
       "       [0.38095238, 0.20740741],\n",
       "       [0.28571429, 0.47407407],\n",
       "       [0.04761905, 0.15555556],\n",
       "       [0.19047619, 0.48148148],\n",
       "       [0.4047619 , 0.05185185],\n",
       "       [0.4047619 , 0.17777778],\n",
       "       [0.73809524, 0.43703704],\n",
       "       [0.5       , 0.88148148],\n",
       "       [0.54761905, 0.41481481],\n",
       "       [0.95238095, 0.63703704],\n",
       "       [0.69047619, 0.23703704],\n",
       "       [0.88095238, 0.85185185],\n",
       "       [0.80952381, 0.73333333],\n",
       "       [0.52380952, 0.94074074],\n",
       "       [0.66666667, 0.05185185],\n",
       "       [0.71428571, 0.6       ],\n",
       "       [0.80952381, 1.        ],\n",
       "       [0.97619048, 0.2       ],\n",
       "       [0.4047619 , 0.31851852],\n",
       "       [0.69047619, 0.20740741],\n",
       "       [1.        , 0.68888889],\n",
       "       [0.73809524, 0.37037037],\n",
       "       [0.52380952, 0.46666667],\n",
       "       [0.66666667, 0.6       ],\n",
       "       [0.97619048, 0.94814815],\n",
       "       [0.54761905, 0.48148148],\n",
       "       [0.4047619 , 0.56296296],\n",
       "       [0.45238095, 0.95555556],\n",
       "       [1.        , 0.64444444],\n",
       "       [0.4047619 , 0.33333333],\n",
       "       [0.45238095, 0.28148148],\n",
       "       [0.42857143, 0.82222222],\n",
       "       [0.9047619 , 0.87407407],\n",
       "       [0.52380952, 0.42222222],\n",
       "       [0.57142857, 0.48148148],\n",
       "       [0.4047619 , 0.97777778],\n",
       "       [0.5       , 0.2       ],\n",
       "       [0.52380952, 0.68148148],\n",
       "       [0.73809524, 0.52592593],\n",
       "       [0.47619048, 0.71851852],\n",
       "       [0.66666667, 0.47407407],\n",
       "       [0.52380952, 0.31111111],\n",
       "       [0.45238095, 0.48148148],\n",
       "       [0.66666667, 0.4962963 ],\n",
       "       [0.83333333, 0.94814815],\n",
       "       [0.57142857, 0.99259259],\n",
       "       [0.47619048, 0.32592593],\n",
       "       [0.76190476, 0.54074074],\n",
       "       [0.9047619 , 0.65925926],\n",
       "       [0.54761905, 0.42222222],\n",
       "       [0.78571429, 0.97037037],\n",
       "       [0.4047619 , 0.25925926],\n",
       "       [0.92857143, 0.79259259],\n",
       "       [0.54761905, 0.27407407],\n",
       "       [0.4047619 , 0.60740741],\n",
       "       [0.61904762, 0.17777778],\n",
       "       [0.45238095, 0.27407407],\n",
       "       [0.71428571, 0.88148148],\n",
       "       [0.45238095, 0.97037037],\n",
       "       [0.76190476, 0.21481481],\n",
       "       [0.80952381, 0.55555556],\n",
       "       [0.54761905, 0.42222222],\n",
       "       [0.52380952, 0.31111111],\n",
       "       [0.95238095, 0.59259259],\n",
       "       [0.64285714, 0.85925926],\n",
       "       [0.4047619 , 0.45925926],\n",
       "       [0.42857143, 0.95555556],\n",
       "       [0.88095238, 0.81481481],\n",
       "       [0.4047619 , 0.42222222],\n",
       "       [0.71428571, 0.55555556],\n",
       "       [0.57142857, 0.68888889],\n",
       "       [0.52380952, 0.44444444],\n",
       "       [0.45238095, 0.43703704],\n",
       "       [0.69047619, 0.95555556],\n",
       "       [0.52380952, 0.34074074],\n",
       "       [0.5952381 , 0.87407407],\n",
       "       [0.97619048, 0.45185185],\n",
       "       [1.        , 0.2       ],\n",
       "       [0.5       , 0.67407407],\n",
       "       [0.92857143, 0.08148148],\n",
       "       [0.92857143, 0.43703704],\n",
       "       [0.47619048, 0.41481481],\n",
       "       [0.73809524, 0.54074074],\n",
       "       [0.80952381, 0.17037037],\n",
       "       [0.76190476, 0.15555556],\n",
       "       [0.97619048, 0.54074074],\n",
       "       [0.4047619 , 0.34074074],\n",
       "       [0.45238095, 0.40740741],\n",
       "       [0.80952381, 0.04444444],\n",
       "       [0.71428571, 0.93333333],\n",
       "       [0.45238095, 0.57777778],\n",
       "       [0.45238095, 0.34814815],\n",
       "       [0.71428571, 0.91111111],\n",
       "       [0.54761905, 0.47407407],\n",
       "       [0.45238095, 0.46666667],\n",
       "       [0.5       , 0.88148148],\n",
       "       [0.73809524, 0.54814815],\n",
       "       [0.88095238, 0.17777778],\n",
       "       [0.45238095, 0.45925926],\n",
       "       [0.4047619 , 0.31111111],\n",
       "       [0.42857143, 0.35555556],\n",
       "       [0.57142857, 0.42962963],\n",
       "       [0.5952381 , 0.71851852],\n",
       "       [0.64285714, 0.47407407],\n",
       "       [0.66666667, 0.75555556],\n",
       "       [0.95238095, 0.17037037],\n",
       "       [0.71428571, 0.43703704],\n",
       "       [0.45238095, 0.9037037 ],\n",
       "       [0.45238095, 0.47407407],\n",
       "       [0.52380952, 0.33333333],\n",
       "       [0.57142857, 0.28888889],\n",
       "       [0.78571429, 0.88148148],\n",
       "       [0.69047619, 0.72592593],\n",
       "       [0.42857143, 0.81481481],\n",
       "       [0.47619048, 0.25925926],\n",
       "       [0.57142857, 0.40740741],\n",
       "       [0.5       , 0.6       ],\n",
       "       [0.47619048, 0.25925926],\n",
       "       [0.73809524, 0.93333333],\n",
       "       [0.5       , 0.47407407],\n",
       "       [0.5       , 0.44444444],\n",
       "       [0.85714286, 0.65925926],\n",
       "       [0.4047619 , 0.2962963 ],\n",
       "       [0.64285714, 0.12592593],\n",
       "       [0.42857143, 0.33333333],\n",
       "       [0.80952381, 0.91111111],\n",
       "       [0.83333333, 0.4962963 ],\n",
       "       [0.54761905, 0.27407407],\n",
       "       [0.71428571, 0.11111111],\n",
       "       [0.71428571, 0.85925926],\n",
       "       [0.54761905, 0.33333333],\n",
       "       [0.54761905, 0.42222222],\n",
       "       [0.57142857, 0.44444444],\n",
       "       [0.42857143, 0.76296296],\n",
       "       [0.69047619, 0.68148148],\n",
       "       [0.47619048, 0.26666667],\n",
       "       [0.71428571, 0.77037037],\n",
       "       [0.57142857, 0.37037037],\n",
       "       [0.52380952, 0.37037037],\n",
       "       [0.92857143, 0.33333333],\n",
       "       [0.42857143, 0.28888889],\n",
       "       [0.95238095, 0.95555556],\n",
       "       [0.4047619 , 0.47407407],\n",
       "       [0.47619048, 0.2962963 ],\n",
       "       [0.5       , 0.79259259],\n",
       "       [0.83333333, 0.65925926],\n",
       "       [0.4047619 , 0.44444444],\n",
       "       [0.47619048, 0.37037037],\n",
       "       [0.69047619, 0.26666667],\n",
       "       [0.69047619, 0.66666667],\n",
       "       [0.54761905, 0.35555556],\n",
       "       [0.83333333, 0.42222222],\n",
       "       [0.85714286, 0.68888889],\n",
       "       [0.5       , 0.45925926],\n",
       "       [0.47619048, 0.34074074],\n",
       "       [0.47619048, 0.72592593],\n",
       "       [0.45238095, 0.44444444],\n",
       "       [0.57142857, 0.55555556],\n",
       "       [0.45238095, 0.31111111],\n",
       "       [0.42857143, 0.62222222],\n",
       "       [1.        , 0.14074074],\n",
       "       [0.85714286, 0.40740741],\n",
       "       [0.54761905, 0.42222222],\n",
       "       [0.52380952, 0.41481481],\n",
       "       [0.57142857, 0.28888889],\n",
       "       [0.5952381 , 0.84444444],\n",
       "       [0.83333333, 0.14074074],\n",
       "       [0.69047619, 0.25925926],\n",
       "       [0.57142857, 0.47407407],\n",
       "       [0.57142857, 0.65925926],\n",
       "       [0.97619048, 0.1037037 ],\n",
       "       [0.95238095, 0.23703704],\n",
       "       [0.66666667, 0.54074074],\n",
       "       [0.47619048, 0.41481481],\n",
       "       [0.85714286, 0.08148148],\n",
       "       [1.        , 0.22962963],\n",
       "       [1.        , 0.5037037 ],\n",
       "       [0.5       , 0.42962963],\n",
       "       [0.97619048, 0.85185185],\n",
       "       [0.45238095, 0.48148148],\n",
       "       [0.66666667, 0.12592593],\n",
       "       [0.66666667, 0.43703704],\n",
       "       [0.57142857, 0.28148148],\n",
       "       [0.54761905, 0.53333333],\n",
       "       [0.95238095, 0.05925926],\n",
       "       [0.57142857, 0.36296296],\n",
       "       [0.71428571, 0.13333333],\n",
       "       [0.61904762, 0.91851852],\n",
       "       [0.73809524, 0.0962963 ],\n",
       "       [0.92857143, 0.13333333],\n",
       "       [0.9047619 , 0.33333333],\n",
       "       [0.73809524, 0.17777778],\n",
       "       [0.5       , 0.41481481],\n",
       "       [0.69047619, 0.14074074],\n",
       "       [0.71428571, 0.14814815],\n",
       "       [0.71428571, 0.13333333],\n",
       "       [0.69047619, 0.05925926],\n",
       "       [0.64285714, 0.22222222],\n",
       "       [1.        , 0.2       ],\n",
       "       [0.5       , 0.32592593],\n",
       "       [0.66666667, 0.19259259],\n",
       "       [0.78571429, 0.05925926],\n",
       "       [0.76190476, 0.03703704],\n",
       "       [0.42857143, 0.13333333],\n",
       "       [0.73809524, 0.15555556]])"
      ]
     },
     "execution_count": 17,
     "metadata": {},
     "output_type": "execute_result"
    }
   ],
   "source": [
    "X"
   ]
  },
  {
   "cell_type": "code",
   "execution_count": 18,
   "id": "c99e5e53",
   "metadata": {},
   "outputs": [],
   "source": [
    "y=df[['Purchased']]"
   ]
  },
  {
   "cell_type": "code",
   "execution_count": 19,
   "id": "67899ceb",
   "metadata": {},
   "outputs": [],
   "source": [
    "from sklearn.model_selection import train_test_split"
   ]
  },
  {
   "cell_type": "code",
   "execution_count": 20,
   "id": "e0a8803a",
   "metadata": {},
   "outputs": [],
   "source": [
    "X_train,X_test,y_train,y_test=train_test_split(X,y,test_size=0.2,random_state=17)"
   ]
  },
  {
   "cell_type": "code",
   "execution_count": 21,
   "id": "c2425f53",
   "metadata": {},
   "outputs": [],
   "source": [
    "from sklearn.linear_model import LogisticRegression"
   ]
  },
  {
   "cell_type": "code",
   "execution_count": 22,
   "id": "17493295",
   "metadata": {},
   "outputs": [],
   "source": [
    "model=LogisticRegression()"
   ]
  },
  {
   "cell_type": "code",
   "execution_count": 23,
   "id": "46c235de",
   "metadata": {},
   "outputs": [
    {
     "name": "stderr",
     "output_type": "stream",
     "text": [
      "C:\\Users\\amol\\Anaconda3\\lib\\site-packages\\sklearn\\utils\\validation.py:993: DataConversionWarning: A column-vector y was passed when a 1d array was expected. Please change the shape of y to (n_samples, ), for example using ravel().\n",
      "  y = column_or_1d(y, warn=True)\n"
     ]
    },
    {
     "data": {
      "text/plain": [
       "LogisticRegression()"
      ]
     },
     "execution_count": 23,
     "metadata": {},
     "output_type": "execute_result"
    }
   ],
   "source": [
    "model.fit(X_train,y_train)"
   ]
  },
  {
   "cell_type": "code",
   "execution_count": 24,
   "id": "878bfa40",
   "metadata": {},
   "outputs": [],
   "source": [
    "y_pred=model.predict(X_test)"
   ]
  },
  {
   "cell_type": "code",
   "execution_count": 25,
   "id": "8963b60c",
   "metadata": {},
   "outputs": [
    {
     "data": {
      "text/plain": [
       "array([0, 0, 0, 1, 0, 0, 0, 0, 0, 0, 1, 0, 0, 0, 0, 0, 1, 0, 0, 0, 0, 0,\n",
       "       0, 0, 0, 0, 0, 0, 1, 0, 1, 0, 0, 0, 0, 0, 1, 0, 0, 1, 0, 0, 0, 0,\n",
       "       0, 1, 1, 0, 0, 0, 0, 0, 1, 0, 0, 1, 1, 0, 0, 1, 1, 1, 1, 0, 0, 0,\n",
       "       0, 0, 1, 1, 0, 0, 0, 0, 0, 0, 0, 0, 1, 0], dtype=int64)"
      ]
     },
     "execution_count": 25,
     "metadata": {},
     "output_type": "execute_result"
    }
   ],
   "source": [
    "y_pred"
   ]
  },
  {
   "cell_type": "code",
   "execution_count": 26,
   "id": "b76f079c",
   "metadata": {},
   "outputs": [
    {
     "data": {
      "text/plain": [
       "0.8125"
      ]
     },
     "execution_count": 26,
     "metadata": {},
     "output_type": "execute_result"
    }
   ],
   "source": [
    "model.score(X_test,y_test)"
   ]
  },
  {
   "cell_type": "markdown",
   "id": "ffd5cf6b",
   "metadata": {},
   "source": [
    "## Prediction based on sample data"
   ]
  },
  {
   "cell_type": "code",
   "execution_count": 27,
   "id": "598b66ea",
   "metadata": {},
   "outputs": [
    {
     "name": "stderr",
     "output_type": "stream",
     "text": [
      "C:\\Users\\amol\\Anaconda3\\lib\\site-packages\\sklearn\\base.py:450: UserWarning: X does not have valid feature names, but MinMaxScaler was fitted with feature names\n",
      "  warnings.warn(\n"
     ]
    }
   ],
   "source": [
    "X_sample=scalar.transform([[40,145000]])"
   ]
  },
  {
   "cell_type": "code",
   "execution_count": 28,
   "id": "ca315b33",
   "metadata": {},
   "outputs": [
    {
     "data": {
      "text/plain": [
       "array([[0.52380952, 0.96296296]])"
      ]
     },
     "execution_count": 28,
     "metadata": {},
     "output_type": "execute_result"
    }
   ],
   "source": [
    "X_sample"
   ]
  },
  {
   "cell_type": "code",
   "execution_count": 29,
   "id": "8b9f988b",
   "metadata": {},
   "outputs": [
    {
     "data": {
      "text/plain": [
       "array([1], dtype=int64)"
      ]
     },
     "execution_count": 29,
     "metadata": {},
     "output_type": "execute_result"
    }
   ],
   "source": [
    "model.predict(X_sample)"
   ]
  },
  {
   "cell_type": "code",
   "execution_count": null,
   "id": "744a7574",
   "metadata": {},
   "outputs": [],
   "source": []
  },
  {
   "cell_type": "code",
   "execution_count": null,
   "id": "a0fa35c6",
   "metadata": {},
   "outputs": [],
   "source": []
  }
 ],
 "metadata": {
  "kernelspec": {
   "display_name": "Python 3 (ipykernel)",
   "language": "python",
   "name": "python3"
  },
  "language_info": {
   "codemirror_mode": {
    "name": "ipython",
    "version": 3
   },
   "file_extension": ".py",
   "mimetype": "text/x-python",
   "name": "python",
   "nbconvert_exporter": "python",
   "pygments_lexer": "ipython3",
   "version": "3.9.12"
  }
 },
 "nbformat": 4,
 "nbformat_minor": 5
}
