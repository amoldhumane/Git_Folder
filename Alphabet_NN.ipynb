{
 "cells": [
  {
   "cell_type": "code",
   "execution_count": 1,
   "id": "004f57ac",
   "metadata": {},
   "outputs": [],
   "source": [
    "import numpy as np\n",
    "import pandas as pd\n",
    "import os\n",
    "import cv2"
   ]
  },
  {
   "cell_type": "code",
   "execution_count": 2,
   "id": "207e05a5",
   "metadata": {},
   "outputs": [],
   "source": [
    "df=pd.read_csv('D:/Datasets/Alphabet_Recognition/A_Z Handwritten Data.csv')"
   ]
  },
  {
   "cell_type": "code",
   "execution_count": 3,
   "id": "51a79856",
   "metadata": {},
   "outputs": [
    {
     "data": {
      "text/html": [
       "<div>\n",
       "<style scoped>\n",
       "    .dataframe tbody tr th:only-of-type {\n",
       "        vertical-align: middle;\n",
       "    }\n",
       "\n",
       "    .dataframe tbody tr th {\n",
       "        vertical-align: top;\n",
       "    }\n",
       "\n",
       "    .dataframe thead th {\n",
       "        text-align: right;\n",
       "    }\n",
       "</style>\n",
       "<table border=\"1\" class=\"dataframe\">\n",
       "  <thead>\n",
       "    <tr style=\"text-align: right;\">\n",
       "      <th></th>\n",
       "      <th>0</th>\n",
       "      <th>0.1</th>\n",
       "      <th>0.2</th>\n",
       "      <th>0.3</th>\n",
       "      <th>0.4</th>\n",
       "      <th>0.5</th>\n",
       "      <th>0.6</th>\n",
       "      <th>0.7</th>\n",
       "      <th>0.8</th>\n",
       "      <th>0.9</th>\n",
       "      <th>...</th>\n",
       "      <th>0.639</th>\n",
       "      <th>0.640</th>\n",
       "      <th>0.641</th>\n",
       "      <th>0.642</th>\n",
       "      <th>0.643</th>\n",
       "      <th>0.644</th>\n",
       "      <th>0.645</th>\n",
       "      <th>0.646</th>\n",
       "      <th>0.647</th>\n",
       "      <th>0.648</th>\n",
       "    </tr>\n",
       "  </thead>\n",
       "  <tbody>\n",
       "    <tr>\n",
       "      <th>0</th>\n",
       "      <td>0</td>\n",
       "      <td>0</td>\n",
       "      <td>0</td>\n",
       "      <td>0</td>\n",
       "      <td>0</td>\n",
       "      <td>0</td>\n",
       "      <td>0</td>\n",
       "      <td>0</td>\n",
       "      <td>0</td>\n",
       "      <td>0</td>\n",
       "      <td>...</td>\n",
       "      <td>0</td>\n",
       "      <td>0</td>\n",
       "      <td>0</td>\n",
       "      <td>0</td>\n",
       "      <td>0</td>\n",
       "      <td>0</td>\n",
       "      <td>0</td>\n",
       "      <td>0</td>\n",
       "      <td>0</td>\n",
       "      <td>0</td>\n",
       "    </tr>\n",
       "    <tr>\n",
       "      <th>1</th>\n",
       "      <td>0</td>\n",
       "      <td>0</td>\n",
       "      <td>0</td>\n",
       "      <td>0</td>\n",
       "      <td>0</td>\n",
       "      <td>0</td>\n",
       "      <td>0</td>\n",
       "      <td>0</td>\n",
       "      <td>0</td>\n",
       "      <td>0</td>\n",
       "      <td>...</td>\n",
       "      <td>0</td>\n",
       "      <td>0</td>\n",
       "      <td>0</td>\n",
       "      <td>0</td>\n",
       "      <td>0</td>\n",
       "      <td>0</td>\n",
       "      <td>0</td>\n",
       "      <td>0</td>\n",
       "      <td>0</td>\n",
       "      <td>0</td>\n",
       "    </tr>\n",
       "    <tr>\n",
       "      <th>2</th>\n",
       "      <td>0</td>\n",
       "      <td>0</td>\n",
       "      <td>0</td>\n",
       "      <td>0</td>\n",
       "      <td>0</td>\n",
       "      <td>0</td>\n",
       "      <td>0</td>\n",
       "      <td>0</td>\n",
       "      <td>0</td>\n",
       "      <td>0</td>\n",
       "      <td>...</td>\n",
       "      <td>0</td>\n",
       "      <td>0</td>\n",
       "      <td>0</td>\n",
       "      <td>0</td>\n",
       "      <td>0</td>\n",
       "      <td>0</td>\n",
       "      <td>0</td>\n",
       "      <td>0</td>\n",
       "      <td>0</td>\n",
       "      <td>0</td>\n",
       "    </tr>\n",
       "    <tr>\n",
       "      <th>3</th>\n",
       "      <td>0</td>\n",
       "      <td>0</td>\n",
       "      <td>0</td>\n",
       "      <td>0</td>\n",
       "      <td>0</td>\n",
       "      <td>0</td>\n",
       "      <td>0</td>\n",
       "      <td>0</td>\n",
       "      <td>0</td>\n",
       "      <td>0</td>\n",
       "      <td>...</td>\n",
       "      <td>0</td>\n",
       "      <td>0</td>\n",
       "      <td>0</td>\n",
       "      <td>0</td>\n",
       "      <td>0</td>\n",
       "      <td>0</td>\n",
       "      <td>0</td>\n",
       "      <td>0</td>\n",
       "      <td>0</td>\n",
       "      <td>0</td>\n",
       "    </tr>\n",
       "    <tr>\n",
       "      <th>4</th>\n",
       "      <td>0</td>\n",
       "      <td>0</td>\n",
       "      <td>0</td>\n",
       "      <td>0</td>\n",
       "      <td>0</td>\n",
       "      <td>0</td>\n",
       "      <td>0</td>\n",
       "      <td>0</td>\n",
       "      <td>0</td>\n",
       "      <td>0</td>\n",
       "      <td>...</td>\n",
       "      <td>0</td>\n",
       "      <td>0</td>\n",
       "      <td>0</td>\n",
       "      <td>0</td>\n",
       "      <td>0</td>\n",
       "      <td>0</td>\n",
       "      <td>0</td>\n",
       "      <td>0</td>\n",
       "      <td>0</td>\n",
       "      <td>0</td>\n",
       "    </tr>\n",
       "  </tbody>\n",
       "</table>\n",
       "<p>5 rows × 785 columns</p>\n",
       "</div>"
      ],
      "text/plain": [
       "   0  0.1  0.2  0.3  0.4  0.5  0.6  0.7  0.8  0.9  ...  0.639  0.640  0.641  \\\n",
       "0  0    0    0    0    0    0    0    0    0    0  ...      0      0      0   \n",
       "1  0    0    0    0    0    0    0    0    0    0  ...      0      0      0   \n",
       "2  0    0    0    0    0    0    0    0    0    0  ...      0      0      0   \n",
       "3  0    0    0    0    0    0    0    0    0    0  ...      0      0      0   \n",
       "4  0    0    0    0    0    0    0    0    0    0  ...      0      0      0   \n",
       "\n",
       "   0.642  0.643  0.644  0.645  0.646  0.647  0.648  \n",
       "0      0      0      0      0      0      0      0  \n",
       "1      0      0      0      0      0      0      0  \n",
       "2      0      0      0      0      0      0      0  \n",
       "3      0      0      0      0      0      0      0  \n",
       "4      0      0      0      0      0      0      0  \n",
       "\n",
       "[5 rows x 785 columns]"
      ]
     },
     "execution_count": 3,
     "metadata": {},
     "output_type": "execute_result"
    }
   ],
   "source": [
    "df.head()"
   ]
  },
  {
   "cell_type": "code",
   "execution_count": 17,
   "id": "39ca0017",
   "metadata": {},
   "outputs": [],
   "source": [
    "y=df['0']"
   ]
  },
  {
   "cell_type": "code",
   "execution_count": 18,
   "id": "ee1246aa",
   "metadata": {},
   "outputs": [],
   "source": [
    "from tensorflow.keras.utils import to_categorical"
   ]
  },
  {
   "cell_type": "code",
   "execution_count": 19,
   "id": "2e3f0077",
   "metadata": {},
   "outputs": [],
   "source": [
    "y=to_categorical(y,num_classes=26)"
   ]
  },
  {
   "cell_type": "code",
   "execution_count": 20,
   "id": "cc16b568",
   "metadata": {},
   "outputs": [
    {
     "data": {
      "text/plain": [
       "array([[1., 0., 0., ..., 0., 0., 0.],\n",
       "       [1., 0., 0., ..., 0., 0., 0.],\n",
       "       [1., 0., 0., ..., 0., 0., 0.],\n",
       "       ...,\n",
       "       [0., 0., 0., ..., 0., 0., 1.],\n",
       "       [0., 0., 0., ..., 0., 0., 1.],\n",
       "       [0., 0., 0., ..., 0., 0., 1.]], dtype=float32)"
      ]
     },
     "execution_count": 20,
     "metadata": {},
     "output_type": "execute_result"
    }
   ],
   "source": [
    "y"
   ]
  },
  {
   "cell_type": "code",
   "execution_count": 6,
   "id": "cccca090",
   "metadata": {},
   "outputs": [],
   "source": [
    "X=df.drop('0',axis=1)"
   ]
  },
  {
   "cell_type": "code",
   "execution_count": 8,
   "id": "f5de225e",
   "metadata": {},
   "outputs": [],
   "source": [
    "X=X/255"
   ]
  },
  {
   "cell_type": "code",
   "execution_count": 16,
   "id": "0898319a",
   "metadata": {},
   "outputs": [],
   "source": [
    "from sklearn.model_selection import train_test_split"
   ]
  },
  {
   "cell_type": "code",
   "execution_count": 21,
   "id": "3abad5f3",
   "metadata": {},
   "outputs": [],
   "source": [
    "X_train,X_test,y_train,y_test=train_test_split(X,y,test_size=.2)"
   ]
  },
  {
   "cell_type": "code",
   "execution_count": 22,
   "id": "29458698",
   "metadata": {},
   "outputs": [
    {
     "data": {
      "text/plain": [
       "((297960, 784), (74490, 784), (297960, 26), (74490, 26))"
      ]
     },
     "execution_count": 22,
     "metadata": {},
     "output_type": "execute_result"
    }
   ],
   "source": [
    "X_train.shape, X_test.shape, y_train.shape,y_test.shape"
   ]
  },
  {
   "cell_type": "code",
   "execution_count": 25,
   "id": "ca9af5de",
   "metadata": {},
   "outputs": [],
   "source": [
    "from tensorflow.keras.models import Sequential\n",
    "from tensorflow.keras.layers import Dense"
   ]
  },
  {
   "cell_type": "code",
   "execution_count": 26,
   "id": "28c471e9",
   "metadata": {},
   "outputs": [],
   "source": [
    "model=Sequential()\n",
    "model.add(Dense(100,activation='relu',input_shape=(784,)))\n",
    "model.add(Dense(50,activation='relu'))\n",
    "model.add(Dense(50,activation='relu'))\n",
    "model.add(Dense(26,activation='softmax'))\n",
    "\n",
    "model.compile(loss='categorical_crossentropy',metrics=['accuracy'])"
   ]
  },
  {
   "cell_type": "code",
   "execution_count": 27,
   "id": "52b55c26",
   "metadata": {},
   "outputs": [
    {
     "name": "stdout",
     "output_type": "stream",
     "text": [
      "Model: \"sequential_1\"\n",
      "_________________________________________________________________\n",
      " Layer (type)                Output Shape              Param #   \n",
      "=================================================================\n",
      " dense (Dense)               (None, 100)               78500     \n",
      "                                                                 \n",
      " dense_1 (Dense)             (None, 50)                5050      \n",
      "                                                                 \n",
      " dense_2 (Dense)             (None, 50)                2550      \n",
      "                                                                 \n",
      " dense_3 (Dense)             (None, 26)                1326      \n",
      "                                                                 \n",
      "=================================================================\n",
      "Total params: 87,426\n",
      "Trainable params: 87,426\n",
      "Non-trainable params: 0\n",
      "_________________________________________________________________\n"
     ]
    }
   ],
   "source": [
    "model.summary()"
   ]
  },
  {
   "cell_type": "code",
   "execution_count": 28,
   "id": "1c98c4aa",
   "metadata": {},
   "outputs": [
    {
     "name": "stdout",
     "output_type": "stream",
     "text": [
      "Epoch 1/20\n",
      "9312/9312 [==============================] - 17s 2ms/step - loss: 0.3033 - accuracy: 0.9163\n",
      "Epoch 2/20\n",
      "9312/9312 [==============================] - 15s 2ms/step - loss: 0.1652 - accuracy: 0.9563\n",
      "Epoch 3/20\n",
      "9312/9312 [==============================] - 15s 2ms/step - loss: 0.1595 - accuracy: 0.9599\n",
      "Epoch 4/20\n",
      "9312/9312 [==============================] - 17s 2ms/step - loss: 0.1647 - accuracy: 0.9613\n",
      "Epoch 5/20\n",
      "9312/9312 [==============================] - 17s 2ms/step - loss: 0.1717 - accuracy: 0.9608\n",
      "Epoch 6/20\n",
      "9312/9312 [==============================] - 17s 2ms/step - loss: 0.1798 - accuracy: 0.9606\n",
      "Epoch 7/20\n",
      "9312/9312 [==============================] - 18s 2ms/step - loss: 0.1930 - accuracy: 0.9592\n",
      "Epoch 8/20\n",
      "9312/9312 [==============================] - 17s 2ms/step - loss: 0.2083 - accuracy: 0.9578\n",
      "Epoch 9/20\n",
      "9312/9312 [==============================] - 16s 2ms/step - loss: 0.2230 - accuracy: 0.9573\n",
      "Epoch 10/20\n",
      "9312/9312 [==============================] - 16s 2ms/step - loss: 0.2359 - accuracy: 0.9559\n",
      "Epoch 11/20\n",
      "9312/9312 [==============================] - 18s 2ms/step - loss: 0.2400 - accuracy: 0.9545\n",
      "Epoch 12/20\n",
      "9312/9312 [==============================] - 17s 2ms/step - loss: 0.2610 - accuracy: 0.9522\n",
      "Epoch 13/20\n",
      "9312/9312 [==============================] - 19s 2ms/step - loss: 0.2661 - accuracy: 0.9515\n",
      "Epoch 14/20\n",
      "9312/9312 [==============================] - 18s 2ms/step - loss: 0.2738 - accuracy: 0.9516\n",
      "Epoch 15/20\n",
      "9312/9312 [==============================] - 18s 2ms/step - loss: 0.2865 - accuracy: 0.9492\n",
      "Epoch 16/20\n",
      "9312/9312 [==============================] - 19s 2ms/step - loss: 0.2970 - accuracy: 0.9487\n",
      "Epoch 17/20\n",
      "9312/9312 [==============================] - 22s 2ms/step - loss: 0.3150 - accuracy: 0.9467\n",
      "Epoch 18/20\n",
      "9312/9312 [==============================] - 22s 2ms/step - loss: 0.3362 - accuracy: 0.9437\n",
      "Epoch 19/20\n",
      "9312/9312 [==============================] - 22s 2ms/step - loss: 0.3636 - accuracy: 0.9408\n",
      "Epoch 20/20\n",
      "9312/9312 [==============================] - 22s 2ms/step - loss: 0.3845 - accuracy: 0.9370\n"
     ]
    },
    {
     "data": {
      "text/plain": [
       "<keras.callbacks.History at 0x1cfe52354f0>"
      ]
     },
     "execution_count": 28,
     "metadata": {},
     "output_type": "execute_result"
    }
   ],
   "source": [
    "model.fit(X_train,y_train,batch_size=32,epochs=20)"
   ]
  },
  {
   "cell_type": "markdown",
   "id": "21e649c1",
   "metadata": {},
   "source": [
    "# Prediction/Testing the model"
   ]
  },
  {
   "cell_type": "code",
   "execution_count": 85,
   "id": "358dd3b8",
   "metadata": {},
   "outputs": [],
   "source": [
    "inp=X_test.iloc[10090]\n",
    "y_act=y_test[10090]"
   ]
  },
  {
   "cell_type": "code",
   "execution_count": 86,
   "id": "8482c046",
   "metadata": {},
   "outputs": [
    {
     "data": {
      "text/plain": [
       "9"
      ]
     },
     "execution_count": 86,
     "metadata": {},
     "output_type": "execute_result"
    }
   ],
   "source": [
    "(y_act).argmax()"
   ]
  },
  {
   "cell_type": "code",
   "execution_count": 87,
   "id": "9d6b0feb",
   "metadata": {},
   "outputs": [
    {
     "data": {
      "text/plain": [
       "(784,)"
      ]
     },
     "execution_count": 87,
     "metadata": {},
     "output_type": "execute_result"
    }
   ],
   "source": [
    "inp.shape"
   ]
  },
  {
   "cell_type": "code",
   "execution_count": 88,
   "id": "72372291",
   "metadata": {},
   "outputs": [],
   "source": [
    "inp=inp.values.reshape(1,784)"
   ]
  },
  {
   "cell_type": "code",
   "execution_count": 89,
   "id": "258151a8",
   "metadata": {},
   "outputs": [
    {
     "name": "stdout",
     "output_type": "stream",
     "text": [
      "1/1 [==============================] - 0s 19ms/step\n"
     ]
    }
   ],
   "source": [
    "ch=(model.predict(inp)).argmax()"
   ]
  },
  {
   "cell_type": "code",
   "execution_count": 90,
   "id": "b0c6a3ab",
   "metadata": {},
   "outputs": [
    {
     "data": {
      "text/plain": [
       "9"
      ]
     },
     "execution_count": 90,
     "metadata": {},
     "output_type": "execute_result"
    }
   ],
   "source": [
    "ch"
   ]
  },
  {
   "cell_type": "code",
   "execution_count": 91,
   "id": "f4c46556",
   "metadata": {},
   "outputs": [],
   "source": [
    "lst=[]\n",
    "for i in range(97,122):\n",
    "    lst.append(chr(i))"
   ]
  },
  {
   "cell_type": "code",
   "execution_count": 92,
   "id": "1a314843",
   "metadata": {},
   "outputs": [
    {
     "name": "stdout",
     "output_type": "stream",
     "text": [
      "character is j\n"
     ]
    }
   ],
   "source": [
    "print('Predicted character is '+lst[ch])"
   ]
  },
  {
   "cell_type": "code",
   "execution_count": null,
   "id": "6b0f1458",
   "metadata": {},
   "outputs": [],
   "source": []
  }
 ],
 "metadata": {
  "kernelspec": {
   "display_name": "Python [conda env:Amol]",
   "language": "python",
   "name": "conda-env-Amol-py"
  },
  "language_info": {
   "codemirror_mode": {
    "name": "ipython",
    "version": 3
   },
   "file_extension": ".py",
   "mimetype": "text/x-python",
   "name": "python",
   "nbconvert_exporter": "python",
   "pygments_lexer": "ipython3",
   "version": "3.8.13"
  }
 },
 "nbformat": 4,
 "nbformat_minor": 5
}
