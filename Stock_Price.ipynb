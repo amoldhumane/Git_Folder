{
 "cells": [
  {
   "cell_type": "code",
   "execution_count": 1,
   "id": "be3f5db2",
   "metadata": {},
   "outputs": [],
   "source": [
    "import numpy as np\n",
    "import pandas as pd"
   ]
  },
  {
   "cell_type": "code",
   "execution_count": 2,
   "id": "920d7be2",
   "metadata": {},
   "outputs": [],
   "source": [
    "df=pd.read_csv('D:\\Datasets\\Google Stock Price Prediction\\Google_Stock_Price_Train.csv')"
   ]
  },
  {
   "cell_type": "code",
   "execution_count": 3,
   "id": "7a0e8dda",
   "metadata": {},
   "outputs": [
    {
     "data": {
      "text/html": [
       "<div>\n",
       "<style scoped>\n",
       "    .dataframe tbody tr th:only-of-type {\n",
       "        vertical-align: middle;\n",
       "    }\n",
       "\n",
       "    .dataframe tbody tr th {\n",
       "        vertical-align: top;\n",
       "    }\n",
       "\n",
       "    .dataframe thead th {\n",
       "        text-align: right;\n",
       "    }\n",
       "</style>\n",
       "<table border=\"1\" class=\"dataframe\">\n",
       "  <thead>\n",
       "    <tr style=\"text-align: right;\">\n",
       "      <th></th>\n",
       "      <th>Date</th>\n",
       "      <th>Open</th>\n",
       "      <th>High</th>\n",
       "      <th>Low</th>\n",
       "      <th>Close</th>\n",
       "      <th>Volume</th>\n",
       "    </tr>\n",
       "  </thead>\n",
       "  <tbody>\n",
       "    <tr>\n",
       "      <th>0</th>\n",
       "      <td>1/3/2012</td>\n",
       "      <td>325.25</td>\n",
       "      <td>332.83</td>\n",
       "      <td>324.97</td>\n",
       "      <td>663.59</td>\n",
       "      <td>7,380,500</td>\n",
       "    </tr>\n",
       "    <tr>\n",
       "      <th>1</th>\n",
       "      <td>1/4/2012</td>\n",
       "      <td>331.27</td>\n",
       "      <td>333.87</td>\n",
       "      <td>329.08</td>\n",
       "      <td>666.45</td>\n",
       "      <td>5,749,400</td>\n",
       "    </tr>\n",
       "    <tr>\n",
       "      <th>2</th>\n",
       "      <td>1/5/2012</td>\n",
       "      <td>329.83</td>\n",
       "      <td>330.75</td>\n",
       "      <td>326.89</td>\n",
       "      <td>657.21</td>\n",
       "      <td>6,590,300</td>\n",
       "    </tr>\n",
       "    <tr>\n",
       "      <th>3</th>\n",
       "      <td>1/6/2012</td>\n",
       "      <td>328.34</td>\n",
       "      <td>328.77</td>\n",
       "      <td>323.68</td>\n",
       "      <td>648.24</td>\n",
       "      <td>5,405,900</td>\n",
       "    </tr>\n",
       "    <tr>\n",
       "      <th>4</th>\n",
       "      <td>1/9/2012</td>\n",
       "      <td>322.04</td>\n",
       "      <td>322.29</td>\n",
       "      <td>309.46</td>\n",
       "      <td>620.76</td>\n",
       "      <td>11,688,800</td>\n",
       "    </tr>\n",
       "  </tbody>\n",
       "</table>\n",
       "</div>"
      ],
      "text/plain": [
       "       Date    Open    High     Low   Close      Volume\n",
       "0  1/3/2012  325.25  332.83  324.97  663.59   7,380,500\n",
       "1  1/4/2012  331.27  333.87  329.08  666.45   5,749,400\n",
       "2  1/5/2012  329.83  330.75  326.89  657.21   6,590,300\n",
       "3  1/6/2012  328.34  328.77  323.68  648.24   5,405,900\n",
       "4  1/9/2012  322.04  322.29  309.46  620.76  11,688,800"
      ]
     },
     "execution_count": 3,
     "metadata": {},
     "output_type": "execute_result"
    }
   ],
   "source": [
    "df.head()"
   ]
  },
  {
   "cell_type": "code",
   "execution_count": 4,
   "id": "6d300f68",
   "metadata": {},
   "outputs": [],
   "source": [
    "df['Volume']=df['Volume'].apply(lambda x:''.join(x.split(',')))"
   ]
  },
  {
   "cell_type": "code",
   "execution_count": 5,
   "id": "1769e3fa",
   "metadata": {},
   "outputs": [
    {
     "data": {
      "text/html": [
       "<div>\n",
       "<style scoped>\n",
       "    .dataframe tbody tr th:only-of-type {\n",
       "        vertical-align: middle;\n",
       "    }\n",
       "\n",
       "    .dataframe tbody tr th {\n",
       "        vertical-align: top;\n",
       "    }\n",
       "\n",
       "    .dataframe thead th {\n",
       "        text-align: right;\n",
       "    }\n",
       "</style>\n",
       "<table border=\"1\" class=\"dataframe\">\n",
       "  <thead>\n",
       "    <tr style=\"text-align: right;\">\n",
       "      <th></th>\n",
       "      <th>Date</th>\n",
       "      <th>Open</th>\n",
       "      <th>High</th>\n",
       "      <th>Low</th>\n",
       "      <th>Close</th>\n",
       "      <th>Volume</th>\n",
       "    </tr>\n",
       "  </thead>\n",
       "  <tbody>\n",
       "    <tr>\n",
       "      <th>0</th>\n",
       "      <td>1/3/2012</td>\n",
       "      <td>325.25</td>\n",
       "      <td>332.83</td>\n",
       "      <td>324.97</td>\n",
       "      <td>663.59</td>\n",
       "      <td>7380500</td>\n",
       "    </tr>\n",
       "    <tr>\n",
       "      <th>1</th>\n",
       "      <td>1/4/2012</td>\n",
       "      <td>331.27</td>\n",
       "      <td>333.87</td>\n",
       "      <td>329.08</td>\n",
       "      <td>666.45</td>\n",
       "      <td>5749400</td>\n",
       "    </tr>\n",
       "    <tr>\n",
       "      <th>2</th>\n",
       "      <td>1/5/2012</td>\n",
       "      <td>329.83</td>\n",
       "      <td>330.75</td>\n",
       "      <td>326.89</td>\n",
       "      <td>657.21</td>\n",
       "      <td>6590300</td>\n",
       "    </tr>\n",
       "    <tr>\n",
       "      <th>3</th>\n",
       "      <td>1/6/2012</td>\n",
       "      <td>328.34</td>\n",
       "      <td>328.77</td>\n",
       "      <td>323.68</td>\n",
       "      <td>648.24</td>\n",
       "      <td>5405900</td>\n",
       "    </tr>\n",
       "    <tr>\n",
       "      <th>4</th>\n",
       "      <td>1/9/2012</td>\n",
       "      <td>322.04</td>\n",
       "      <td>322.29</td>\n",
       "      <td>309.46</td>\n",
       "      <td>620.76</td>\n",
       "      <td>11688800</td>\n",
       "    </tr>\n",
       "  </tbody>\n",
       "</table>\n",
       "</div>"
      ],
      "text/plain": [
       "       Date    Open    High     Low   Close    Volume\n",
       "0  1/3/2012  325.25  332.83  324.97  663.59   7380500\n",
       "1  1/4/2012  331.27  333.87  329.08  666.45   5749400\n",
       "2  1/5/2012  329.83  330.75  326.89  657.21   6590300\n",
       "3  1/6/2012  328.34  328.77  323.68  648.24   5405900\n",
       "4  1/9/2012  322.04  322.29  309.46  620.76  11688800"
      ]
     },
     "execution_count": 5,
     "metadata": {},
     "output_type": "execute_result"
    }
   ],
   "source": [
    "df.head()"
   ]
  },
  {
   "cell_type": "code",
   "execution_count": 6,
   "id": "021d8fe4",
   "metadata": {},
   "outputs": [],
   "source": [
    "X=df[['Open','High','Low','Volume']]"
   ]
  },
  {
   "cell_type": "code",
   "execution_count": 7,
   "id": "2cc9ef4a",
   "metadata": {},
   "outputs": [
    {
     "data": {
      "text/html": [
       "<div>\n",
       "<style scoped>\n",
       "    .dataframe tbody tr th:only-of-type {\n",
       "        vertical-align: middle;\n",
       "    }\n",
       "\n",
       "    .dataframe tbody tr th {\n",
       "        vertical-align: top;\n",
       "    }\n",
       "\n",
       "    .dataframe thead th {\n",
       "        text-align: right;\n",
       "    }\n",
       "</style>\n",
       "<table border=\"1\" class=\"dataframe\">\n",
       "  <thead>\n",
       "    <tr style=\"text-align: right;\">\n",
       "      <th></th>\n",
       "      <th>Open</th>\n",
       "      <th>High</th>\n",
       "      <th>Low</th>\n",
       "      <th>Volume</th>\n",
       "    </tr>\n",
       "  </thead>\n",
       "  <tbody>\n",
       "    <tr>\n",
       "      <th>0</th>\n",
       "      <td>325.25</td>\n",
       "      <td>332.83</td>\n",
       "      <td>324.97</td>\n",
       "      <td>7380500</td>\n",
       "    </tr>\n",
       "    <tr>\n",
       "      <th>1</th>\n",
       "      <td>331.27</td>\n",
       "      <td>333.87</td>\n",
       "      <td>329.08</td>\n",
       "      <td>5749400</td>\n",
       "    </tr>\n",
       "    <tr>\n",
       "      <th>2</th>\n",
       "      <td>329.83</td>\n",
       "      <td>330.75</td>\n",
       "      <td>326.89</td>\n",
       "      <td>6590300</td>\n",
       "    </tr>\n",
       "    <tr>\n",
       "      <th>3</th>\n",
       "      <td>328.34</td>\n",
       "      <td>328.77</td>\n",
       "      <td>323.68</td>\n",
       "      <td>5405900</td>\n",
       "    </tr>\n",
       "    <tr>\n",
       "      <th>4</th>\n",
       "      <td>322.04</td>\n",
       "      <td>322.29</td>\n",
       "      <td>309.46</td>\n",
       "      <td>11688800</td>\n",
       "    </tr>\n",
       "    <tr>\n",
       "      <th>...</th>\n",
       "      <td>...</td>\n",
       "      <td>...</td>\n",
       "      <td>...</td>\n",
       "      <td>...</td>\n",
       "    </tr>\n",
       "    <tr>\n",
       "      <th>1253</th>\n",
       "      <td>790.90</td>\n",
       "      <td>792.74</td>\n",
       "      <td>787.28</td>\n",
       "      <td>623400</td>\n",
       "    </tr>\n",
       "    <tr>\n",
       "      <th>1254</th>\n",
       "      <td>790.68</td>\n",
       "      <td>797.86</td>\n",
       "      <td>787.66</td>\n",
       "      <td>789100</td>\n",
       "    </tr>\n",
       "    <tr>\n",
       "      <th>1255</th>\n",
       "      <td>793.70</td>\n",
       "      <td>794.23</td>\n",
       "      <td>783.20</td>\n",
       "      <td>1153800</td>\n",
       "    </tr>\n",
       "    <tr>\n",
       "      <th>1256</th>\n",
       "      <td>783.33</td>\n",
       "      <td>785.93</td>\n",
       "      <td>778.92</td>\n",
       "      <td>744300</td>\n",
       "    </tr>\n",
       "    <tr>\n",
       "      <th>1257</th>\n",
       "      <td>782.75</td>\n",
       "      <td>782.78</td>\n",
       "      <td>770.41</td>\n",
       "      <td>1770000</td>\n",
       "    </tr>\n",
       "  </tbody>\n",
       "</table>\n",
       "<p>1258 rows × 4 columns</p>\n",
       "</div>"
      ],
      "text/plain": [
       "        Open    High     Low    Volume\n",
       "0     325.25  332.83  324.97   7380500\n",
       "1     331.27  333.87  329.08   5749400\n",
       "2     329.83  330.75  326.89   6590300\n",
       "3     328.34  328.77  323.68   5405900\n",
       "4     322.04  322.29  309.46  11688800\n",
       "...      ...     ...     ...       ...\n",
       "1253  790.90  792.74  787.28    623400\n",
       "1254  790.68  797.86  787.66    789100\n",
       "1255  793.70  794.23  783.20   1153800\n",
       "1256  783.33  785.93  778.92    744300\n",
       "1257  782.75  782.78  770.41   1770000\n",
       "\n",
       "[1258 rows x 4 columns]"
      ]
     },
     "execution_count": 7,
     "metadata": {},
     "output_type": "execute_result"
    }
   ],
   "source": [
    "X"
   ]
  },
  {
   "cell_type": "code",
   "execution_count": 8,
   "id": "048dc985",
   "metadata": {},
   "outputs": [],
   "source": [
    "from sklearn.preprocessing import MinMaxScaler"
   ]
  },
  {
   "cell_type": "code",
   "execution_count": 9,
   "id": "8c38039e",
   "metadata": {},
   "outputs": [],
   "source": [
    "scalar=MinMaxScaler()"
   ]
  },
  {
   "cell_type": "code",
   "execution_count": 10,
   "id": "2b135c4f",
   "metadata": {},
   "outputs": [
    {
     "data": {
      "text/html": [
       "<style>#sk-container-id-1 {color: black;background-color: white;}#sk-container-id-1 pre{padding: 0;}#sk-container-id-1 div.sk-toggleable {background-color: white;}#sk-container-id-1 label.sk-toggleable__label {cursor: pointer;display: block;width: 100%;margin-bottom: 0;padding: 0.3em;box-sizing: border-box;text-align: center;}#sk-container-id-1 label.sk-toggleable__label-arrow:before {content: \"▸\";float: left;margin-right: 0.25em;color: #696969;}#sk-container-id-1 label.sk-toggleable__label-arrow:hover:before {color: black;}#sk-container-id-1 div.sk-estimator:hover label.sk-toggleable__label-arrow:before {color: black;}#sk-container-id-1 div.sk-toggleable__content {max-height: 0;max-width: 0;overflow: hidden;text-align: left;background-color: #f0f8ff;}#sk-container-id-1 div.sk-toggleable__content pre {margin: 0.2em;color: black;border-radius: 0.25em;background-color: #f0f8ff;}#sk-container-id-1 input.sk-toggleable__control:checked~div.sk-toggleable__content {max-height: 200px;max-width: 100%;overflow: auto;}#sk-container-id-1 input.sk-toggleable__control:checked~label.sk-toggleable__label-arrow:before {content: \"▾\";}#sk-container-id-1 div.sk-estimator input.sk-toggleable__control:checked~label.sk-toggleable__label {background-color: #d4ebff;}#sk-container-id-1 div.sk-label input.sk-toggleable__control:checked~label.sk-toggleable__label {background-color: #d4ebff;}#sk-container-id-1 input.sk-hidden--visually {border: 0;clip: rect(1px 1px 1px 1px);clip: rect(1px, 1px, 1px, 1px);height: 1px;margin: -1px;overflow: hidden;padding: 0;position: absolute;width: 1px;}#sk-container-id-1 div.sk-estimator {font-family: monospace;background-color: #f0f8ff;border: 1px dotted black;border-radius: 0.25em;box-sizing: border-box;margin-bottom: 0.5em;}#sk-container-id-1 div.sk-estimator:hover {background-color: #d4ebff;}#sk-container-id-1 div.sk-parallel-item::after {content: \"\";width: 100%;border-bottom: 1px solid gray;flex-grow: 1;}#sk-container-id-1 div.sk-label:hover label.sk-toggleable__label {background-color: #d4ebff;}#sk-container-id-1 div.sk-serial::before {content: \"\";position: absolute;border-left: 1px solid gray;box-sizing: border-box;top: 0;bottom: 0;left: 50%;z-index: 0;}#sk-container-id-1 div.sk-serial {display: flex;flex-direction: column;align-items: center;background-color: white;padding-right: 0.2em;padding-left: 0.2em;position: relative;}#sk-container-id-1 div.sk-item {position: relative;z-index: 1;}#sk-container-id-1 div.sk-parallel {display: flex;align-items: stretch;justify-content: center;background-color: white;position: relative;}#sk-container-id-1 div.sk-item::before, #sk-container-id-1 div.sk-parallel-item::before {content: \"\";position: absolute;border-left: 1px solid gray;box-sizing: border-box;top: 0;bottom: 0;left: 50%;z-index: -1;}#sk-container-id-1 div.sk-parallel-item {display: flex;flex-direction: column;z-index: 1;position: relative;background-color: white;}#sk-container-id-1 div.sk-parallel-item:first-child::after {align-self: flex-end;width: 50%;}#sk-container-id-1 div.sk-parallel-item:last-child::after {align-self: flex-start;width: 50%;}#sk-container-id-1 div.sk-parallel-item:only-child::after {width: 0;}#sk-container-id-1 div.sk-dashed-wrapped {border: 1px dashed gray;margin: 0 0.4em 0.5em 0.4em;box-sizing: border-box;padding-bottom: 0.4em;background-color: white;}#sk-container-id-1 div.sk-label label {font-family: monospace;font-weight: bold;display: inline-block;line-height: 1.2em;}#sk-container-id-1 div.sk-label-container {text-align: center;}#sk-container-id-1 div.sk-container {/* jupyter's `normalize.less` sets `[hidden] { display: none; }` but bootstrap.min.css set `[hidden] { display: none !important; }` so we also need the `!important` here to be able to override the default hidden behavior on the sphinx rendered scikit-learn.org. See: https://github.com/scikit-learn/scikit-learn/issues/21755 */display: inline-block !important;position: relative;}#sk-container-id-1 div.sk-text-repr-fallback {display: none;}</style><div id=\"sk-container-id-1\" class=\"sk-top-container\"><div class=\"sk-text-repr-fallback\"><pre>MinMaxScaler()</pre><b>In a Jupyter environment, please rerun this cell to show the HTML representation or trust the notebook. <br />On GitHub, the HTML representation is unable to render, please try loading this page with nbviewer.org.</b></div><div class=\"sk-container\" hidden><div class=\"sk-item\"><div class=\"sk-estimator sk-toggleable\"><input class=\"sk-toggleable__control sk-hidden--visually\" id=\"sk-estimator-id-1\" type=\"checkbox\" checked><label for=\"sk-estimator-id-1\" class=\"sk-toggleable__label sk-toggleable__label-arrow\">MinMaxScaler</label><div class=\"sk-toggleable__content\"><pre>MinMaxScaler()</pre></div></div></div></div></div>"
      ],
      "text/plain": [
       "MinMaxScaler()"
      ]
     },
     "execution_count": 10,
     "metadata": {},
     "output_type": "execute_result"
    }
   ],
   "source": [
    "scalar.fit(X)"
   ]
  },
  {
   "cell_type": "code",
   "execution_count": 11,
   "id": "eb4fb9b1",
   "metadata": {},
   "outputs": [],
   "source": [
    "X_scaled=scalar.transform(X)"
   ]
  },
  {
   "cell_type": "code",
   "execution_count": 12,
   "id": "c5c50774",
   "metadata": {},
   "outputs": [
    {
     "data": {
      "text/plain": [
       "array([[0.08581368, 0.09640129, 0.09044931, 0.29525831],\n",
       "       [0.09701243, 0.09834351, 0.09823458, 0.22993592],\n",
       "       [0.09433366, 0.09251685, 0.09408623, 0.26361233],\n",
       "       ...,\n",
       "       [0.95725128, 0.95807422, 0.95844067, 0.04589107],\n",
       "       [0.93796041, 0.94257381, 0.95033338, 0.02949139],\n",
       "       [0.93688146, 0.93669113, 0.93421352, 0.07056868]])"
      ]
     },
     "execution_count": 12,
     "metadata": {},
     "output_type": "execute_result"
    }
   ],
   "source": [
    "X_scaled"
   ]
  },
  {
   "cell_type": "code",
   "execution_count": 13,
   "id": "84fce3bb",
   "metadata": {},
   "outputs": [
    {
     "data": {
      "text/plain": [
       "(1258, 4)"
      ]
     },
     "execution_count": 13,
     "metadata": {},
     "output_type": "execute_result"
    }
   ],
   "source": [
    "X_scaled.shape"
   ]
  },
  {
   "cell_type": "code",
   "execution_count": 14,
   "id": "ab4673fa",
   "metadata": {},
   "outputs": [],
   "source": [
    "X_training=[]\n",
    "for i in range(1198):\n",
    "    row=X_scaled[i:61+i,:]\n",
    "    X_training.append(row)\n",
    "    "
   ]
  },
  {
   "cell_type": "code",
   "execution_count": 15,
   "id": "516feaf8",
   "metadata": {},
   "outputs": [],
   "source": [
    "X_training=np.array(X_training)"
   ]
  },
  {
   "cell_type": "code",
   "execution_count": 16,
   "id": "5371ad3c",
   "metadata": {},
   "outputs": [
    {
     "data": {
      "text/plain": [
       "(1198, 61, 4)"
      ]
     },
     "execution_count": 16,
     "metadata": {},
     "output_type": "execute_result"
    }
   ],
   "source": [
    "X_training.shape"
   ]
  },
  {
   "cell_type": "code",
   "execution_count": 17,
   "id": "106773b1",
   "metadata": {},
   "outputs": [],
   "source": [
    "y=X_training[:,-1]"
   ]
  },
  {
   "cell_type": "code",
   "execution_count": 18,
   "id": "af4d6f07",
   "metadata": {},
   "outputs": [
    {
     "data": {
      "text/plain": [
       "(1198, 4)"
      ]
     },
     "execution_count": 18,
     "metadata": {},
     "output_type": "execute_result"
    }
   ],
   "source": [
    "y.shape"
   ]
  },
  {
   "cell_type": "code",
   "execution_count": 19,
   "id": "e2ea5973",
   "metadata": {},
   "outputs": [],
   "source": [
    "X_training=X_training[:,:60]"
   ]
  },
  {
   "cell_type": "code",
   "execution_count": 20,
   "id": "cccc6e89",
   "metadata": {},
   "outputs": [
    {
     "data": {
      "text/plain": [
       "(1198, 60, 4)"
      ]
     },
     "execution_count": 20,
     "metadata": {},
     "output_type": "execute_result"
    }
   ],
   "source": [
    "X_training.shape"
   ]
  },
  {
   "cell_type": "code",
   "execution_count": 21,
   "id": "08e94281",
   "metadata": {},
   "outputs": [],
   "source": [
    "from tensorflow.keras.models import Sequential\n",
    "from tensorflow.keras.layers import LSTM,Dense"
   ]
  },
  {
   "cell_type": "code",
   "execution_count": 22,
   "id": "01608058",
   "metadata": {},
   "outputs": [],
   "source": [
    "model=Sequential()\n",
    "model.add(LSTM(100,return_sequences=True,input_shape=(60,4)))\n",
    "model.add(LSTM(50,return_sequences=True))\n",
    "model.add(LSTM(50,return_sequences=True))\n",
    "model.add(LSTM(50,return_sequences=True))\n",
    "model.add(LSTM(50,return_sequences=False))\n",
    "model.add(Dense(1))\n",
    "\n",
    "model.compile(loss='mean_squared_error')\n"
   ]
  },
  {
   "cell_type": "code",
   "execution_count": 23,
   "id": "81e61a90",
   "metadata": {},
   "outputs": [
    {
     "name": "stdout",
     "output_type": "stream",
     "text": [
      "Model: \"sequential\"\n",
      "_________________________________________________________________\n",
      " Layer (type)                Output Shape              Param #   \n",
      "=================================================================\n",
      " lstm (LSTM)                 (None, 60, 100)           42000     \n",
      "                                                                 \n",
      " lstm_1 (LSTM)               (None, 60, 50)            30200     \n",
      "                                                                 \n",
      " lstm_2 (LSTM)               (None, 60, 50)            20200     \n",
      "                                                                 \n",
      " lstm_3 (LSTM)               (None, 60, 50)            20200     \n",
      "                                                                 \n",
      " lstm_4 (LSTM)               (None, 50)                20200     \n",
      "                                                                 \n",
      " dense (Dense)               (None, 1)                 51        \n",
      "                                                                 \n",
      "=================================================================\n",
      "Total params: 132,851\n",
      "Trainable params: 132,851\n",
      "Non-trainable params: 0\n",
      "_________________________________________________________________\n"
     ]
    }
   ],
   "source": [
    "model.summary()"
   ]
  },
  {
   "cell_type": "code",
   "execution_count": 24,
   "id": "c18d0c81",
   "metadata": {},
   "outputs": [
    {
     "name": "stdout",
     "output_type": "stream",
     "text": [
      "Epoch 1/80\n",
      "38/38 [==============================] - 8s 79ms/step - loss: 0.0719\n",
      "Epoch 2/80\n",
      "38/38 [==============================] - 3s 74ms/step - loss: 0.0547\n",
      "Epoch 3/80\n",
      "38/38 [==============================] - 3s 79ms/step - loss: 0.0543\n",
      "Epoch 4/80\n",
      "38/38 [==============================] - 3s 84ms/step - loss: 0.0526\n",
      "Epoch 5/80\n",
      "38/38 [==============================] - 3s 79ms/step - loss: 0.0516\n",
      "Epoch 6/80\n",
      "38/38 [==============================] - 3s 80ms/step - loss: 0.0510\n",
      "Epoch 7/80\n",
      "38/38 [==============================] - 3s 76ms/step - loss: 0.0514\n",
      "Epoch 8/80\n",
      "38/38 [==============================] - 3s 75ms/step - loss: 0.0501\n",
      "Epoch 9/80\n",
      "38/38 [==============================] - 3s 76ms/step - loss: 0.0503\n",
      "Epoch 10/80\n",
      "38/38 [==============================] - 3s 73ms/step - loss: 0.0496\n",
      "Epoch 11/80\n",
      "38/38 [==============================] - 3s 76ms/step - loss: 0.0499\n",
      "Epoch 12/80\n",
      "38/38 [==============================] - 3s 79ms/step - loss: 0.0494\n",
      "Epoch 13/80\n",
      "38/38 [==============================] - 3s 82ms/step - loss: 0.0494\n",
      "Epoch 14/80\n",
      "38/38 [==============================] - 3s 77ms/step - loss: 0.0494\n",
      "Epoch 15/80\n",
      "38/38 [==============================] - 3s 74ms/step - loss: 0.0491\n",
      "Epoch 16/80\n",
      "38/38 [==============================] - 3s 78ms/step - loss: 0.0489\n",
      "Epoch 17/80\n",
      "38/38 [==============================] - 3s 73ms/step - loss: 0.0490\n",
      "Epoch 18/80\n",
      "38/38 [==============================] - 3s 75ms/step - loss: 0.0488\n",
      "Epoch 19/80\n",
      "38/38 [==============================] - 3s 73ms/step - loss: 0.0488\n",
      "Epoch 20/80\n",
      "38/38 [==============================] - 3s 73ms/step - loss: 0.0485\n",
      "Epoch 21/80\n",
      "38/38 [==============================] - 3s 74ms/step - loss: 0.0486\n",
      "Epoch 22/80\n",
      "38/38 [==============================] - 3s 74ms/step - loss: 0.0486\n",
      "Epoch 23/80\n",
      "38/38 [==============================] - 3s 82ms/step - loss: 0.0484\n",
      "Epoch 24/80\n",
      "38/38 [==============================] - 3s 78ms/step - loss: 0.0482\n",
      "Epoch 25/80\n",
      "38/38 [==============================] - 3s 82ms/step - loss: 0.0483\n",
      "Epoch 26/80\n",
      "38/38 [==============================] - 3s 75ms/step - loss: 0.0483\n",
      "Epoch 27/80\n",
      "38/38 [==============================] - 3s 74ms/step - loss: 0.0480\n",
      "Epoch 28/80\n",
      "38/38 [==============================] - 3s 75ms/step - loss: 0.0480\n",
      "Epoch 29/80\n",
      "38/38 [==============================] - 3s 79ms/step - loss: 0.0481\n",
      "Epoch 30/80\n",
      "38/38 [==============================] - 3s 78ms/step - loss: 0.0479\n",
      "Epoch 31/80\n",
      "38/38 [==============================] - 3s 78ms/step - loss: 0.0480\n",
      "Epoch 32/80\n",
      "38/38 [==============================] - 3s 79ms/step - loss: 0.0480\n",
      "Epoch 33/80\n",
      "38/38 [==============================] - 3s 80ms/step - loss: 0.0478\n",
      "Epoch 34/80\n",
      "38/38 [==============================] - 3s 78ms/step - loss: 0.0479\n",
      "Epoch 35/80\n",
      "38/38 [==============================] - 3s 79ms/step - loss: 0.0478\n",
      "Epoch 36/80\n",
      "38/38 [==============================] - 3s 80ms/step - loss: 0.0478\n",
      "Epoch 37/80\n",
      "38/38 [==============================] - 3s 80ms/step - loss: 0.0478\n",
      "Epoch 38/80\n",
      "38/38 [==============================] - 3s 80ms/step - loss: 0.0478\n",
      "Epoch 39/80\n",
      "38/38 [==============================] - 3s 79ms/step - loss: 0.0477\n",
      "Epoch 40/80\n",
      "38/38 [==============================] - 3s 80ms/step - loss: 0.0476\n",
      "Epoch 41/80\n",
      "38/38 [==============================] - 3s 80ms/step - loss: 0.0477\n",
      "Epoch 42/80\n",
      "38/38 [==============================] - 3s 84ms/step - loss: 0.0477\n",
      "Epoch 43/80\n",
      "38/38 [==============================] - 3s 81ms/step - loss: 0.0477\n",
      "Epoch 44/80\n",
      "38/38 [==============================] - 3s 82ms/step - loss: 0.0476\n",
      "Epoch 45/80\n",
      "38/38 [==============================] - 4s 92ms/step - loss: 0.0477\n",
      "Epoch 46/80\n",
      "38/38 [==============================] - 3s 81ms/step - loss: 0.0476\n",
      "Epoch 47/80\n",
      "38/38 [==============================] - 3s 80ms/step - loss: 0.0476\n",
      "Epoch 48/80\n",
      "38/38 [==============================] - 3s 81ms/step - loss: 0.0476\n",
      "Epoch 49/80\n",
      "38/38 [==============================] - 3s 82ms/step - loss: 0.0475\n",
      "Epoch 50/80\n",
      "38/38 [==============================] - 3s 82ms/step - loss: 0.0477\n",
      "Epoch 51/80\n",
      "38/38 [==============================] - 3s 82ms/step - loss: 0.0476\n",
      "Epoch 52/80\n",
      "38/38 [==============================] - 3s 84ms/step - loss: 0.0476\n",
      "Epoch 53/80\n",
      "38/38 [==============================] - 3s 89ms/step - loss: 0.0475\n",
      "Epoch 54/80\n",
      "38/38 [==============================] - 3s 83ms/step - loss: 0.0476\n",
      "Epoch 55/80\n",
      "38/38 [==============================] - 3s 82ms/step - loss: 0.0475\n",
      "Epoch 56/80\n",
      "38/38 [==============================] - 3s 87ms/step - loss: 0.0476\n",
      "Epoch 57/80\n",
      "38/38 [==============================] - 3s 82ms/step - loss: 0.0475\n",
      "Epoch 58/80\n",
      "38/38 [==============================] - 3s 82ms/step - loss: 0.0475\n",
      "Epoch 59/80\n",
      "38/38 [==============================] - 3s 83ms/step - loss: 0.0475\n",
      "Epoch 60/80\n",
      "38/38 [==============================] - 3s 83ms/step - loss: 0.0475\n",
      "Epoch 61/80\n",
      "38/38 [==============================] - 3s 84ms/step - loss: 0.0475\n",
      "Epoch 62/80\n",
      "38/38 [==============================] - 3s 83ms/step - loss: 0.0475\n",
      "Epoch 63/80\n",
      "38/38 [==============================] - 3s 82ms/step - loss: 0.0475\n",
      "Epoch 64/80\n",
      "38/38 [==============================] - 3s 86ms/step - loss: 0.0476\n",
      "Epoch 65/80\n",
      "38/38 [==============================] - 3s 82ms/step - loss: 0.0474\n",
      "Epoch 66/80\n",
      "38/38 [==============================] - 3s 82ms/step - loss: 0.0475\n",
      "Epoch 67/80\n",
      "38/38 [==============================] - 3s 82ms/step - loss: 0.0474\n",
      "Epoch 68/80\n",
      "38/38 [==============================] - 3s 82ms/step - loss: 0.0475\n",
      "Epoch 69/80\n",
      "38/38 [==============================] - 3s 82ms/step - loss: 0.0474\n",
      "Epoch 70/80\n",
      "38/38 [==============================] - 3s 83ms/step - loss: 0.0475\n",
      "Epoch 71/80\n",
      "38/38 [==============================] - 3s 83ms/step - loss: 0.0474\n",
      "Epoch 72/80\n",
      "38/38 [==============================] - 3s 82ms/step - loss: 0.0474\n",
      "Epoch 73/80\n",
      "38/38 [==============================] - 3s 81ms/step - loss: 0.0474\n",
      "Epoch 74/80\n",
      "38/38 [==============================] - 3s 81ms/step - loss: 0.0475\n",
      "Epoch 75/80\n",
      "38/38 [==============================] - 3s 81ms/step - loss: 0.0474\n",
      "Epoch 76/80\n",
      "38/38 [==============================] - 3s 82ms/step - loss: 0.0474\n",
      "Epoch 77/80\n",
      "38/38 [==============================] - 3s 82ms/step - loss: 0.0474\n",
      "Epoch 78/80\n",
      "38/38 [==============================] - 3s 82ms/step - loss: 0.0474\n",
      "Epoch 79/80\n",
      "38/38 [==============================] - 3s 81ms/step - loss: 0.0474\n",
      "Epoch 80/80\n",
      "38/38 [==============================] - 3s 83ms/step - loss: 0.0474\n"
     ]
    },
    {
     "data": {
      "text/plain": [
       "<keras.callbacks.History at 0x17591301ca0>"
      ]
     },
     "execution_count": 24,
     "metadata": {},
     "output_type": "execute_result"
    }
   ],
   "source": [
    "model.fit(X_training,y,epochs=80,batch_size=32)"
   ]
  },
  {
   "cell_type": "code",
   "execution_count": 58,
   "id": "3984c856",
   "metadata": {},
   "outputs": [],
   "source": [
    "model.save('stock_priceAmol.h5')"
   ]
  },
  {
   "cell_type": "code",
   "execution_count": 59,
   "id": "3345c8df",
   "metadata": {},
   "outputs": [],
   "source": [
    "df_test=pd.read_csv('D:\\Datasets\\Google Stock Price Prediction\\Google_Stock_Price_Test.csv')"
   ]
  },
  {
   "cell_type": "code",
   "execution_count": 60,
   "id": "4e5728b6",
   "metadata": {},
   "outputs": [
    {
     "data": {
      "text/html": [
       "<div>\n",
       "<style scoped>\n",
       "    .dataframe tbody tr th:only-of-type {\n",
       "        vertical-align: middle;\n",
       "    }\n",
       "\n",
       "    .dataframe tbody tr th {\n",
       "        vertical-align: top;\n",
       "    }\n",
       "\n",
       "    .dataframe thead th {\n",
       "        text-align: right;\n",
       "    }\n",
       "</style>\n",
       "<table border=\"1\" class=\"dataframe\">\n",
       "  <thead>\n",
       "    <tr style=\"text-align: right;\">\n",
       "      <th></th>\n",
       "      <th>Date</th>\n",
       "      <th>Open</th>\n",
       "      <th>High</th>\n",
       "      <th>Low</th>\n",
       "      <th>Close</th>\n",
       "      <th>Volume</th>\n",
       "    </tr>\n",
       "  </thead>\n",
       "  <tbody>\n",
       "    <tr>\n",
       "      <th>0</th>\n",
       "      <td>1/3/2017</td>\n",
       "      <td>778.81</td>\n",
       "      <td>789.63</td>\n",
       "      <td>775.80</td>\n",
       "      <td>786.14</td>\n",
       "      <td>1,657,300</td>\n",
       "    </tr>\n",
       "    <tr>\n",
       "      <th>1</th>\n",
       "      <td>1/4/2017</td>\n",
       "      <td>788.36</td>\n",
       "      <td>791.34</td>\n",
       "      <td>783.16</td>\n",
       "      <td>786.90</td>\n",
       "      <td>1,073,000</td>\n",
       "    </tr>\n",
       "    <tr>\n",
       "      <th>2</th>\n",
       "      <td>1/5/2017</td>\n",
       "      <td>786.08</td>\n",
       "      <td>794.48</td>\n",
       "      <td>785.02</td>\n",
       "      <td>794.02</td>\n",
       "      <td>1,335,200</td>\n",
       "    </tr>\n",
       "    <tr>\n",
       "      <th>3</th>\n",
       "      <td>1/6/2017</td>\n",
       "      <td>795.26</td>\n",
       "      <td>807.90</td>\n",
       "      <td>792.20</td>\n",
       "      <td>806.15</td>\n",
       "      <td>1,640,200</td>\n",
       "    </tr>\n",
       "    <tr>\n",
       "      <th>4</th>\n",
       "      <td>1/9/2017</td>\n",
       "      <td>806.40</td>\n",
       "      <td>809.97</td>\n",
       "      <td>802.83</td>\n",
       "      <td>806.65</td>\n",
       "      <td>1,272,400</td>\n",
       "    </tr>\n",
       "  </tbody>\n",
       "</table>\n",
       "</div>"
      ],
      "text/plain": [
       "       Date    Open    High     Low   Close     Volume\n",
       "0  1/3/2017  778.81  789.63  775.80  786.14  1,657,300\n",
       "1  1/4/2017  788.36  791.34  783.16  786.90  1,073,000\n",
       "2  1/5/2017  786.08  794.48  785.02  794.02  1,335,200\n",
       "3  1/6/2017  795.26  807.90  792.20  806.15  1,640,200\n",
       "4  1/9/2017  806.40  809.97  802.83  806.65  1,272,400"
      ]
     },
     "execution_count": 60,
     "metadata": {},
     "output_type": "execute_result"
    }
   ],
   "source": [
    "df_test.head()"
   ]
  },
  {
   "cell_type": "code",
   "execution_count": 61,
   "id": "0f8ed2be",
   "metadata": {},
   "outputs": [],
   "source": [
    "X_test=df_test[['Open','High','Low','Volume']]"
   ]
  },
  {
   "cell_type": "code",
   "execution_count": 62,
   "id": "bccae7c8",
   "metadata": {},
   "outputs": [
    {
     "data": {
      "text/html": [
       "<div>\n",
       "<style scoped>\n",
       "    .dataframe tbody tr th:only-of-type {\n",
       "        vertical-align: middle;\n",
       "    }\n",
       "\n",
       "    .dataframe tbody tr th {\n",
       "        vertical-align: top;\n",
       "    }\n",
       "\n",
       "    .dataframe thead th {\n",
       "        text-align: right;\n",
       "    }\n",
       "</style>\n",
       "<table border=\"1\" class=\"dataframe\">\n",
       "  <thead>\n",
       "    <tr style=\"text-align: right;\">\n",
       "      <th></th>\n",
       "      <th>Open</th>\n",
       "      <th>High</th>\n",
       "      <th>Low</th>\n",
       "      <th>Volume</th>\n",
       "    </tr>\n",
       "  </thead>\n",
       "  <tbody>\n",
       "    <tr>\n",
       "      <th>0</th>\n",
       "      <td>778.81</td>\n",
       "      <td>789.63</td>\n",
       "      <td>775.80</td>\n",
       "      <td>1,657,300</td>\n",
       "    </tr>\n",
       "    <tr>\n",
       "      <th>1</th>\n",
       "      <td>788.36</td>\n",
       "      <td>791.34</td>\n",
       "      <td>783.16</td>\n",
       "      <td>1,073,000</td>\n",
       "    </tr>\n",
       "    <tr>\n",
       "      <th>2</th>\n",
       "      <td>786.08</td>\n",
       "      <td>794.48</td>\n",
       "      <td>785.02</td>\n",
       "      <td>1,335,200</td>\n",
       "    </tr>\n",
       "    <tr>\n",
       "      <th>3</th>\n",
       "      <td>795.26</td>\n",
       "      <td>807.90</td>\n",
       "      <td>792.20</td>\n",
       "      <td>1,640,200</td>\n",
       "    </tr>\n",
       "    <tr>\n",
       "      <th>4</th>\n",
       "      <td>806.40</td>\n",
       "      <td>809.97</td>\n",
       "      <td>802.83</td>\n",
       "      <td>1,272,400</td>\n",
       "    </tr>\n",
       "    <tr>\n",
       "      <th>5</th>\n",
       "      <td>807.86</td>\n",
       "      <td>809.13</td>\n",
       "      <td>803.51</td>\n",
       "      <td>1,176,800</td>\n",
       "    </tr>\n",
       "    <tr>\n",
       "      <th>6</th>\n",
       "      <td>805.00</td>\n",
       "      <td>808.15</td>\n",
       "      <td>801.37</td>\n",
       "      <td>1,065,900</td>\n",
       "    </tr>\n",
       "    <tr>\n",
       "      <th>7</th>\n",
       "      <td>807.14</td>\n",
       "      <td>807.39</td>\n",
       "      <td>799.17</td>\n",
       "      <td>1,353,100</td>\n",
       "    </tr>\n",
       "    <tr>\n",
       "      <th>8</th>\n",
       "      <td>807.48</td>\n",
       "      <td>811.22</td>\n",
       "      <td>806.69</td>\n",
       "      <td>1,099,200</td>\n",
       "    </tr>\n",
       "    <tr>\n",
       "      <th>9</th>\n",
       "      <td>807.08</td>\n",
       "      <td>807.14</td>\n",
       "      <td>800.37</td>\n",
       "      <td>1,362,100</td>\n",
       "    </tr>\n",
       "    <tr>\n",
       "      <th>10</th>\n",
       "      <td>805.81</td>\n",
       "      <td>806.21</td>\n",
       "      <td>800.99</td>\n",
       "      <td>1,294,400</td>\n",
       "    </tr>\n",
       "    <tr>\n",
       "      <th>11</th>\n",
       "      <td>805.12</td>\n",
       "      <td>809.48</td>\n",
       "      <td>801.80</td>\n",
       "      <td>919,300</td>\n",
       "    </tr>\n",
       "    <tr>\n",
       "      <th>12</th>\n",
       "      <td>806.91</td>\n",
       "      <td>806.91</td>\n",
       "      <td>801.69</td>\n",
       "      <td>1,670,000</td>\n",
       "    </tr>\n",
       "    <tr>\n",
       "      <th>13</th>\n",
       "      <td>807.25</td>\n",
       "      <td>820.87</td>\n",
       "      <td>803.74</td>\n",
       "      <td>1,963,600</td>\n",
       "    </tr>\n",
       "    <tr>\n",
       "      <th>14</th>\n",
       "      <td>822.30</td>\n",
       "      <td>825.90</td>\n",
       "      <td>817.82</td>\n",
       "      <td>1,474,000</td>\n",
       "    </tr>\n",
       "    <tr>\n",
       "      <th>15</th>\n",
       "      <td>829.62</td>\n",
       "      <td>835.77</td>\n",
       "      <td>825.06</td>\n",
       "      <td>1,494,500</td>\n",
       "    </tr>\n",
       "    <tr>\n",
       "      <th>16</th>\n",
       "      <td>837.81</td>\n",
       "      <td>838.00</td>\n",
       "      <td>827.01</td>\n",
       "      <td>2,973,900</td>\n",
       "    </tr>\n",
       "    <tr>\n",
       "      <th>17</th>\n",
       "      <td>834.71</td>\n",
       "      <td>841.95</td>\n",
       "      <td>820.44</td>\n",
       "      <td>2,965,800</td>\n",
       "    </tr>\n",
       "    <tr>\n",
       "      <th>18</th>\n",
       "      <td>814.66</td>\n",
       "      <td>815.84</td>\n",
       "      <td>799.80</td>\n",
       "      <td>3,246,600</td>\n",
       "    </tr>\n",
       "    <tr>\n",
       "      <th>19</th>\n",
       "      <td>796.86</td>\n",
       "      <td>801.25</td>\n",
       "      <td>790.52</td>\n",
       "      <td>2,160,600</td>\n",
       "    </tr>\n",
       "  </tbody>\n",
       "</table>\n",
       "</div>"
      ],
      "text/plain": [
       "      Open    High     Low     Volume\n",
       "0   778.81  789.63  775.80  1,657,300\n",
       "1   788.36  791.34  783.16  1,073,000\n",
       "2   786.08  794.48  785.02  1,335,200\n",
       "3   795.26  807.90  792.20  1,640,200\n",
       "4   806.40  809.97  802.83  1,272,400\n",
       "5   807.86  809.13  803.51  1,176,800\n",
       "6   805.00  808.15  801.37  1,065,900\n",
       "7   807.14  807.39  799.17  1,353,100\n",
       "8   807.48  811.22  806.69  1,099,200\n",
       "9   807.08  807.14  800.37  1,362,100\n",
       "10  805.81  806.21  800.99  1,294,400\n",
       "11  805.12  809.48  801.80    919,300\n",
       "12  806.91  806.91  801.69  1,670,000\n",
       "13  807.25  820.87  803.74  1,963,600\n",
       "14  822.30  825.90  817.82  1,474,000\n",
       "15  829.62  835.77  825.06  1,494,500\n",
       "16  837.81  838.00  827.01  2,973,900\n",
       "17  834.71  841.95  820.44  2,965,800\n",
       "18  814.66  815.84  799.80  3,246,600\n",
       "19  796.86  801.25  790.52  2,160,600"
      ]
     },
     "execution_count": 62,
     "metadata": {},
     "output_type": "execute_result"
    }
   ],
   "source": [
    "X_test"
   ]
  },
  {
   "cell_type": "code",
   "execution_count": 63,
   "id": "95f8c66f",
   "metadata": {},
   "outputs": [],
   "source": [
    "X_tst_list=X_test['Volume'].str.split(',')"
   ]
  },
  {
   "cell_type": "code",
   "execution_count": 64,
   "id": "0cc6b5a3",
   "metadata": {},
   "outputs": [
    {
     "name": "stderr",
     "output_type": "stream",
     "text": [
      "C:\\Users\\amol\\AppData\\Local\\Temp\\ipykernel_3408\\2261196880.py:1: SettingWithCopyWarning: \n",
      "A value is trying to be set on a copy of a slice from a DataFrame.\n",
      "Try using .loc[row_indexer,col_indexer] = value instead\n",
      "\n",
      "See the caveats in the documentation: https://pandas.pydata.org/pandas-docs/stable/user_guide/indexing.html#returning-a-view-versus-a-copy\n",
      "  X_test['Volume']=X_tst_list.apply(lambda x: ''.join(x))\n"
     ]
    }
   ],
   "source": [
    "X_test['Volume']=X_tst_list.apply(lambda x: ''.join(x))"
   ]
  },
  {
   "cell_type": "code",
   "execution_count": 65,
   "id": "9460ffc7",
   "metadata": {},
   "outputs": [
    {
     "data": {
      "text/html": [
       "<div>\n",
       "<style scoped>\n",
       "    .dataframe tbody tr th:only-of-type {\n",
       "        vertical-align: middle;\n",
       "    }\n",
       "\n",
       "    .dataframe tbody tr th {\n",
       "        vertical-align: top;\n",
       "    }\n",
       "\n",
       "    .dataframe thead th {\n",
       "        text-align: right;\n",
       "    }\n",
       "</style>\n",
       "<table border=\"1\" class=\"dataframe\">\n",
       "  <thead>\n",
       "    <tr style=\"text-align: right;\">\n",
       "      <th></th>\n",
       "      <th>Open</th>\n",
       "      <th>High</th>\n",
       "      <th>Low</th>\n",
       "      <th>Volume</th>\n",
       "    </tr>\n",
       "  </thead>\n",
       "  <tbody>\n",
       "    <tr>\n",
       "      <th>0</th>\n",
       "      <td>778.81</td>\n",
       "      <td>789.63</td>\n",
       "      <td>775.80</td>\n",
       "      <td>1657300</td>\n",
       "    </tr>\n",
       "    <tr>\n",
       "      <th>1</th>\n",
       "      <td>788.36</td>\n",
       "      <td>791.34</td>\n",
       "      <td>783.16</td>\n",
       "      <td>1073000</td>\n",
       "    </tr>\n",
       "    <tr>\n",
       "      <th>2</th>\n",
       "      <td>786.08</td>\n",
       "      <td>794.48</td>\n",
       "      <td>785.02</td>\n",
       "      <td>1335200</td>\n",
       "    </tr>\n",
       "    <tr>\n",
       "      <th>3</th>\n",
       "      <td>795.26</td>\n",
       "      <td>807.90</td>\n",
       "      <td>792.20</td>\n",
       "      <td>1640200</td>\n",
       "    </tr>\n",
       "    <tr>\n",
       "      <th>4</th>\n",
       "      <td>806.40</td>\n",
       "      <td>809.97</td>\n",
       "      <td>802.83</td>\n",
       "      <td>1272400</td>\n",
       "    </tr>\n",
       "    <tr>\n",
       "      <th>5</th>\n",
       "      <td>807.86</td>\n",
       "      <td>809.13</td>\n",
       "      <td>803.51</td>\n",
       "      <td>1176800</td>\n",
       "    </tr>\n",
       "    <tr>\n",
       "      <th>6</th>\n",
       "      <td>805.00</td>\n",
       "      <td>808.15</td>\n",
       "      <td>801.37</td>\n",
       "      <td>1065900</td>\n",
       "    </tr>\n",
       "    <tr>\n",
       "      <th>7</th>\n",
       "      <td>807.14</td>\n",
       "      <td>807.39</td>\n",
       "      <td>799.17</td>\n",
       "      <td>1353100</td>\n",
       "    </tr>\n",
       "    <tr>\n",
       "      <th>8</th>\n",
       "      <td>807.48</td>\n",
       "      <td>811.22</td>\n",
       "      <td>806.69</td>\n",
       "      <td>1099200</td>\n",
       "    </tr>\n",
       "    <tr>\n",
       "      <th>9</th>\n",
       "      <td>807.08</td>\n",
       "      <td>807.14</td>\n",
       "      <td>800.37</td>\n",
       "      <td>1362100</td>\n",
       "    </tr>\n",
       "    <tr>\n",
       "      <th>10</th>\n",
       "      <td>805.81</td>\n",
       "      <td>806.21</td>\n",
       "      <td>800.99</td>\n",
       "      <td>1294400</td>\n",
       "    </tr>\n",
       "    <tr>\n",
       "      <th>11</th>\n",
       "      <td>805.12</td>\n",
       "      <td>809.48</td>\n",
       "      <td>801.80</td>\n",
       "      <td>919300</td>\n",
       "    </tr>\n",
       "    <tr>\n",
       "      <th>12</th>\n",
       "      <td>806.91</td>\n",
       "      <td>806.91</td>\n",
       "      <td>801.69</td>\n",
       "      <td>1670000</td>\n",
       "    </tr>\n",
       "    <tr>\n",
       "      <th>13</th>\n",
       "      <td>807.25</td>\n",
       "      <td>820.87</td>\n",
       "      <td>803.74</td>\n",
       "      <td>1963600</td>\n",
       "    </tr>\n",
       "    <tr>\n",
       "      <th>14</th>\n",
       "      <td>822.30</td>\n",
       "      <td>825.90</td>\n",
       "      <td>817.82</td>\n",
       "      <td>1474000</td>\n",
       "    </tr>\n",
       "    <tr>\n",
       "      <th>15</th>\n",
       "      <td>829.62</td>\n",
       "      <td>835.77</td>\n",
       "      <td>825.06</td>\n",
       "      <td>1494500</td>\n",
       "    </tr>\n",
       "    <tr>\n",
       "      <th>16</th>\n",
       "      <td>837.81</td>\n",
       "      <td>838.00</td>\n",
       "      <td>827.01</td>\n",
       "      <td>2973900</td>\n",
       "    </tr>\n",
       "    <tr>\n",
       "      <th>17</th>\n",
       "      <td>834.71</td>\n",
       "      <td>841.95</td>\n",
       "      <td>820.44</td>\n",
       "      <td>2965800</td>\n",
       "    </tr>\n",
       "    <tr>\n",
       "      <th>18</th>\n",
       "      <td>814.66</td>\n",
       "      <td>815.84</td>\n",
       "      <td>799.80</td>\n",
       "      <td>3246600</td>\n",
       "    </tr>\n",
       "    <tr>\n",
       "      <th>19</th>\n",
       "      <td>796.86</td>\n",
       "      <td>801.25</td>\n",
       "      <td>790.52</td>\n",
       "      <td>2160600</td>\n",
       "    </tr>\n",
       "  </tbody>\n",
       "</table>\n",
       "</div>"
      ],
      "text/plain": [
       "      Open    High     Low   Volume\n",
       "0   778.81  789.63  775.80  1657300\n",
       "1   788.36  791.34  783.16  1073000\n",
       "2   786.08  794.48  785.02  1335200\n",
       "3   795.26  807.90  792.20  1640200\n",
       "4   806.40  809.97  802.83  1272400\n",
       "5   807.86  809.13  803.51  1176800\n",
       "6   805.00  808.15  801.37  1065900\n",
       "7   807.14  807.39  799.17  1353100\n",
       "8   807.48  811.22  806.69  1099200\n",
       "9   807.08  807.14  800.37  1362100\n",
       "10  805.81  806.21  800.99  1294400\n",
       "11  805.12  809.48  801.80   919300\n",
       "12  806.91  806.91  801.69  1670000\n",
       "13  807.25  820.87  803.74  1963600\n",
       "14  822.30  825.90  817.82  1474000\n",
       "15  829.62  835.77  825.06  1494500\n",
       "16  837.81  838.00  827.01  2973900\n",
       "17  834.71  841.95  820.44  2965800\n",
       "18  814.66  815.84  799.80  3246600\n",
       "19  796.86  801.25  790.52  2160600"
      ]
     },
     "execution_count": 65,
     "metadata": {},
     "output_type": "execute_result"
    }
   ],
   "source": [
    "X_test"
   ]
  },
  {
   "cell_type": "code",
   "execution_count": 66,
   "id": "82e369c9",
   "metadata": {},
   "outputs": [],
   "source": [
    "X_test_scaled=scalar.transform(X_test)"
   ]
  },
  {
   "cell_type": "code",
   "execution_count": 67,
   "id": "e7c832e9",
   "metadata": {},
   "outputs": [
    {
     "data": {
      "text/plain": [
       "array([[0.92955205, 0.94948363, 0.9444234 , 0.06605527],\n",
       "       [0.94731751, 0.95267709, 0.9583649 , 0.04265519],\n",
       "       [0.94307612, 0.95854109, 0.96188816, 0.05315579],\n",
       "       [0.96015329, 0.98360319, 0.97548871, 0.06537044],\n",
       "       [0.98087655, 0.98746895, 0.99562434, 0.05064077],\n",
       "       [0.98359253, 0.98590024, 0.99691241, 0.04681217],\n",
       "       [0.97827219, 0.98407007, 0.99285877, 0.04237085],\n",
       "       [0.98225314, 0.98265076, 0.98869147, 0.05387265],\n",
       "       [0.98288563, 0.98980335, 1.00293605, 0.04370445],\n",
       "       [0.98214153, 0.98218388, 0.99096454, 0.05423308],\n",
       "       [0.979779  , 0.98044708, 0.99213896, 0.05152183],\n",
       "       [0.97849542, 0.98655387, 0.99367328, 0.0364998 ],\n",
       "       [0.98182528, 0.98175435, 0.99346492, 0.06656388],\n",
       "       [0.98245777, 1.0078249 , 0.99734808, 0.07832199],\n",
       "       [1.01045465, 1.01721852, 1.02401879, 0.05871446],\n",
       "       [1.02407173, 1.03565092, 1.03773299, 0.05953544],\n",
       "       [1.03930724, 1.03981549, 1.04142673, 0.11878254],\n",
       "       [1.03354044, 1.04719219, 1.02898166, 0.11845815],\n",
       "       [0.99624228, 0.99843128, 0.98988483, 0.12970364],\n",
       "       [0.9631297 , 0.97118419, 0.97230641, 0.08621145]])"
      ]
     },
     "execution_count": 67,
     "metadata": {},
     "output_type": "execute_result"
    }
   ],
   "source": [
    "X_test_scaled"
   ]
  },
  {
   "cell_type": "code",
   "execution_count": 68,
   "id": "6182be53",
   "metadata": {},
   "outputs": [],
   "source": [
    "X_test_upper=X_scaled[-60:,:]"
   ]
  },
  {
   "cell_type": "code",
   "execution_count": 69,
   "id": "9b5de156",
   "metadata": {},
   "outputs": [
    {
     "data": {
      "text/plain": [
       "numpy.ndarray"
      ]
     },
     "execution_count": 69,
     "metadata": {},
     "output_type": "execute_result"
    }
   ],
   "source": [
    "type(X_test_upper)"
   ]
  },
  {
   "cell_type": "code",
   "execution_count": 70,
   "id": "6b05a81d",
   "metadata": {},
   "outputs": [
    {
     "data": {
      "text/plain": [
       "numpy.ndarray"
      ]
     },
     "execution_count": 70,
     "metadata": {},
     "output_type": "execute_result"
    }
   ],
   "source": [
    "type(X_scaled)"
   ]
  },
  {
   "cell_type": "code",
   "execution_count": 71,
   "id": "710c08de",
   "metadata": {},
   "outputs": [],
   "source": [
    "X_test_scaled=np.append(X_test_upper,X_test_scaled,axis=0)"
   ]
  },
  {
   "cell_type": "code",
   "execution_count": 72,
   "id": "4d42cfa1",
   "metadata": {},
   "outputs": [
    {
     "data": {
      "text/plain": [
       "(80, 4)"
      ]
     },
     "execution_count": 72,
     "metadata": {},
     "output_type": "execute_result"
    }
   ],
   "source": [
    "X_test_scaled.shape"
   ]
  },
  {
   "cell_type": "code",
   "execution_count": 73,
   "id": "dc0eff5e",
   "metadata": {},
   "outputs": [],
   "source": [
    "X_test_input=[]\n",
    "for i in range(20):\n",
    "    row=X_test_scaled[i:i+61,:]\n",
    "    X_test_input.append(row)"
   ]
  },
  {
   "cell_type": "code",
   "execution_count": 74,
   "id": "8b25afb2",
   "metadata": {},
   "outputs": [],
   "source": [
    "X_test_input=np.array(X_test_input)"
   ]
  },
  {
   "cell_type": "code",
   "execution_count": 75,
   "id": "8a882315",
   "metadata": {},
   "outputs": [
    {
     "data": {
      "text/plain": [
       "(20, 61, 4)"
      ]
     },
     "execution_count": 75,
     "metadata": {},
     "output_type": "execute_result"
    }
   ],
   "source": [
    "X_test_input.shape"
   ]
  },
  {
   "cell_type": "code",
   "execution_count": 76,
   "id": "f350da53",
   "metadata": {},
   "outputs": [],
   "source": [
    "X_test_x=X_test_input[:,:60]"
   ]
  },
  {
   "cell_type": "code",
   "execution_count": 77,
   "id": "c928859f",
   "metadata": {},
   "outputs": [
    {
     "data": {
      "text/plain": [
       "(20, 60, 4)"
      ]
     },
     "execution_count": 77,
     "metadata": {},
     "output_type": "execute_result"
    }
   ],
   "source": [
    "X_test_x.shape"
   ]
  },
  {
   "cell_type": "code",
   "execution_count": 78,
   "id": "ff626975",
   "metadata": {},
   "outputs": [],
   "source": [
    "y_actual=X_test_input[:,-1]"
   ]
  },
  {
   "cell_type": "code",
   "execution_count": 79,
   "id": "0d44f477",
   "metadata": {},
   "outputs": [
    {
     "data": {
      "text/plain": [
       "(20, 4)"
      ]
     },
     "execution_count": 79,
     "metadata": {},
     "output_type": "execute_result"
    }
   ],
   "source": [
    "y_actual.shape"
   ]
  },
  {
   "cell_type": "code",
   "execution_count": 80,
   "id": "995f09ae",
   "metadata": {},
   "outputs": [
    {
     "data": {
      "text/plain": [
       "array([[0.92955205, 0.94948363, 0.9444234 , 0.06605527],\n",
       "       [0.94731751, 0.95267709, 0.9583649 , 0.04265519],\n",
       "       [0.94307612, 0.95854109, 0.96188816, 0.05315579],\n",
       "       [0.96015329, 0.98360319, 0.97548871, 0.06537044],\n",
       "       [0.98087655, 0.98746895, 0.99562434, 0.05064077],\n",
       "       [0.98359253, 0.98590024, 0.99691241, 0.04681217],\n",
       "       [0.97827219, 0.98407007, 0.99285877, 0.04237085],\n",
       "       [0.98225314, 0.98265076, 0.98869147, 0.05387265],\n",
       "       [0.98288563, 0.98980335, 1.00293605, 0.04370445],\n",
       "       [0.98214153, 0.98218388, 0.99096454, 0.05423308],\n",
       "       [0.979779  , 0.98044708, 0.99213896, 0.05152183],\n",
       "       [0.97849542, 0.98655387, 0.99367328, 0.0364998 ],\n",
       "       [0.98182528, 0.98175435, 0.99346492, 0.06656388],\n",
       "       [0.98245777, 1.0078249 , 0.99734808, 0.07832199],\n",
       "       [1.01045465, 1.01721852, 1.02401879, 0.05871446],\n",
       "       [1.02407173, 1.03565092, 1.03773299, 0.05953544],\n",
       "       [1.03930724, 1.03981549, 1.04142673, 0.11878254],\n",
       "       [1.03354044, 1.04719219, 1.02898166, 0.11845815],\n",
       "       [0.99624228, 0.99843128, 0.98988483, 0.12970364],\n",
       "       [0.9631297 , 0.97118419, 0.97230641, 0.08621145]])"
      ]
     },
     "execution_count": 80,
     "metadata": {},
     "output_type": "execute_result"
    }
   ],
   "source": [
    "y_actual"
   ]
  },
  {
   "cell_type": "code",
   "execution_count": 81,
   "id": "64aabb4e",
   "metadata": {},
   "outputs": [
    {
     "name": "stdout",
     "output_type": "stream",
     "text": [
      "1/1 [==============================] - 0s 36ms/step\n"
     ]
    }
   ],
   "source": [
    "y_predicted=model.predict(X_test_x)"
   ]
  },
  {
   "cell_type": "code",
   "execution_count": 82,
   "id": "f78e2066",
   "metadata": {},
   "outputs": [
    {
     "data": {
      "text/plain": [
       "array([[0.70830923],\n",
       "       [0.7121701 ],\n",
       "       [0.71644014],\n",
       "       [0.71857727],\n",
       "       [0.7306399 ],\n",
       "       [0.7350242 ],\n",
       "       [0.7342535 ],\n",
       "       [0.7310471 ],\n",
       "       [0.73094875],\n",
       "       [0.7350956 ],\n",
       "       [0.7280761 ],\n",
       "       [0.7285495 ],\n",
       "       [0.7275477 ],\n",
       "       [0.72895014],\n",
       "       [0.7345814 ],\n",
       "       [0.7434431 ],\n",
       "       [0.74964756],\n",
       "       [0.7535581 ],\n",
       "       [0.7461901 ],\n",
       "       [0.7221186 ]], dtype=float32)"
      ]
     },
     "execution_count": 82,
     "metadata": {},
     "output_type": "execute_result"
    }
   ],
   "source": [
    "y_predicted"
   ]
  },
  {
   "cell_type": "code",
   "execution_count": 83,
   "id": "0356f28f",
   "metadata": {},
   "outputs": [
    {
     "data": {
      "text/plain": [
       "0     778.81\n",
       "1     788.36\n",
       "2     786.08\n",
       "3     795.26\n",
       "4     806.40\n",
       "5     807.86\n",
       "6     805.00\n",
       "7     807.14\n",
       "8     807.48\n",
       "9     807.08\n",
       "10    805.81\n",
       "11    805.12\n",
       "12    806.91\n",
       "13    807.25\n",
       "14    822.30\n",
       "15    829.62\n",
       "16    837.81\n",
       "17    834.71\n",
       "18    814.66\n",
       "19    796.86\n",
       "Name: Open, dtype: float64"
      ]
     },
     "execution_count": 83,
     "metadata": {},
     "output_type": "execute_result"
    }
   ],
   "source": [
    "df_test['Open']"
   ]
  },
  {
   "cell_type": "code",
   "execution_count": 84,
   "id": "443210f6",
   "metadata": {},
   "outputs": [],
   "source": [
    "yp_like = np.zeros(shape=(len(y_predicted), 4) )"
   ]
  },
  {
   "cell_type": "code",
   "execution_count": 85,
   "id": "89e1e98d",
   "metadata": {},
   "outputs": [
    {
     "data": {
      "text/plain": [
       "(20, 4)"
      ]
     },
     "execution_count": 85,
     "metadata": {},
     "output_type": "execute_result"
    }
   ],
   "source": [
    "yp_like.shape"
   ]
  },
  {
   "cell_type": "code",
   "execution_count": 86,
   "id": "3f27b081",
   "metadata": {},
   "outputs": [],
   "source": [
    "yp_like[:,0]=y_predicted[:,0]"
   ]
  },
  {
   "cell_type": "code",
   "execution_count": 87,
   "id": "661bfc7c",
   "metadata": {},
   "outputs": [
    {
     "data": {
      "text/plain": [
       "array([[0.70830923, 0.        , 0.        , 0.        ],\n",
       "       [0.71217012, 0.        , 0.        , 0.        ],\n",
       "       [0.71644014, 0.        , 0.        , 0.        ],\n",
       "       [0.71857727, 0.        , 0.        , 0.        ],\n",
       "       [0.73063987, 0.        , 0.        , 0.        ],\n",
       "       [0.73502421, 0.        , 0.        , 0.        ],\n",
       "       [0.73425353, 0.        , 0.        , 0.        ],\n",
       "       [0.73104709, 0.        , 0.        , 0.        ],\n",
       "       [0.73094875, 0.        , 0.        , 0.        ],\n",
       "       [0.73509562, 0.        , 0.        , 0.        ],\n",
       "       [0.7280761 , 0.        , 0.        , 0.        ],\n",
       "       [0.72854948, 0.        , 0.        , 0.        ],\n",
       "       [0.72754771, 0.        , 0.        , 0.        ],\n",
       "       [0.72895014, 0.        , 0.        , 0.        ],\n",
       "       [0.73458141, 0.        , 0.        , 0.        ],\n",
       "       [0.74344307, 0.        , 0.        , 0.        ],\n",
       "       [0.74964756, 0.        , 0.        , 0.        ],\n",
       "       [0.7535581 , 0.        , 0.        , 0.        ],\n",
       "       [0.74619007, 0.        , 0.        , 0.        ],\n",
       "       [0.72211862, 0.        , 0.        , 0.        ]])"
      ]
     },
     "execution_count": 87,
     "metadata": {},
     "output_type": "execute_result"
    }
   ],
   "source": [
    "yp_like"
   ]
  },
  {
   "cell_type": "code",
   "execution_count": 88,
   "id": "02844e6e",
   "metadata": {},
   "outputs": [],
   "source": [
    "yp=scalar.inverse_transform(yp_like)"
   ]
  },
  {
   "cell_type": "code",
   "execution_count": 89,
   "id": "4c48735f",
   "metadata": {},
   "outputs": [],
   "source": [
    "import matplotlib.pyplot as plt"
   ]
  },
  {
   "cell_type": "code",
   "execution_count": 90,
   "id": "2e0f6c62",
   "metadata": {},
   "outputs": [
    {
     "data": {
      "text/plain": [
       "[<matplotlib.lines.Line2D at 0x1758feb0cd0>]"
      ]
     },
     "execution_count": 90,
     "metadata": {},
     "output_type": "execute_result"
    },
    {
     "data": {
      "image/png": "[encoded data removed]",
      "text/plain": [
       "<Figure size 640x480 with 1 Axes>"
      ]
     },
     "metadata": {},
     "output_type": "display_data"
    }
   ],
   "source": [
    "plt.plot(yp[:,0])\n",
    "plt.plot(df_test['Open'])"
   ]
  },
  {
   "cell_type": "code",
   "execution_count": null,
   "id": "da176cf0",
   "metadata": {},
   "outputs": [],
   "source": []
  },
  {
   "cell_type": "code",
   "execution_count": null,
   "id": "8c348da7",
   "metadata": {},
   "outputs": [],
   "source": []
  },
  {
   "cell_type": "code",
   "execution_count": null,
   "id": "4c736fe7",
   "metadata": {},
   "outputs": [],
   "source": []
  },
  {
   "cell_type": "code",
   "execution_count": null,
   "id": "d38d53ef",
   "metadata": {},
   "outputs": [],
   "source": []
  },
  {
   "cell_type": "code",
   "execution_count": null,
   "id": "904db281",
   "metadata": {},
   "outputs": [],
   "source": []
  },
  {
   "cell_type": "code",
   "execution_count": null,
   "id": "5e633f5b",
   "metadata": {},
   "outputs": [],
   "source": []
  },
  {
   "cell_type": "code",
   "execution_count": null,
   "id": "cb27877c",
   "metadata": {},
   "outputs": [],
   "source": []
  },
  {
   "cell_type": "code",
   "execution_count": null,
   "id": "143638f5",
   "metadata": {},
   "outputs": [],
   "source": []
  },
  {
   "cell_type": "code",
   "execution_count": null,
   "id": "89f47071",
   "metadata": {},
   "outputs": [],
   "source": []
  },
  {
   "cell_type": "code",
   "execution_count": null,
   "id": "86ae9a64",
   "metadata": {},
   "outputs": [],
   "source": []
  },
  {
   "cell_type": "code",
   "execution_count": null,
   "id": "fe9237ee",
   "metadata": {},
   "outputs": [],
   "source": []
  },
  {
   "cell_type": "code",
   "execution_count": null,
   "id": "be19cee6",
   "metadata": {},
   "outputs": [],
   "source": []
  },
  {
   "cell_type": "code",
   "execution_count": null,
   "id": "70ca1002",
   "metadata": {},
   "outputs": [],
   "source": []
  },
  {
   "cell_type": "code",
   "execution_count": null,
   "id": "b7569ee2",
   "metadata": {},
   "outputs": [],
   "source": []
  },
  {
   "cell_type": "code",
   "execution_count": null,
   "id": "b810187c",
   "metadata": {},
   "outputs": [],
   "source": []
  },
  {
   "cell_type": "code",
   "execution_count": null,
   "id": "4a35b178",
   "metadata": {},
   "outputs": [],
   "source": []
  },
  {
   "cell_type": "code",
   "execution_count": null,
   "id": "5ad997c0",
   "metadata": {},
   "outputs": [],
   "source": []
  },
  {
   "cell_type": "code",
   "execution_count": 1,
   "id": "a8b8ef9d",
   "metadata": {},
   "outputs": [
    {
     "data": {
      "text/plain": [
       "'C:\\\\Users\\\\amol\\\\Git_Folder'"
      ]
     },
     "execution_count": 1,
     "metadata": {},
     "output_type": "execute_result"
    }
   ],
   "source": [
    "pwd"
   ]
  },
  {
   "cell_type": "code",
   "execution_count": null,
   "id": "ba8c517e",
   "metadata": {},
   "outputs": [],
   "source": []
  }
 ],
 "metadata": {
  "kernelspec": {
   "display_name": "Python [conda env:Amol]",
   "language": "python",
   "name": "conda-env-Amol-py"
  },
  "language_info": {
   "codemirror_mode": {
    "name": "ipython",
    "version": 3
   },
   "file_extension": ".py",
   "mimetype": "text/x-python",
   "name": "python",
   "nbconvert_exporter": "python",
   "pygments_lexer": "ipython3",
   "version": "3.8.13"
  }
 },
 "nbformat": 4,
 "nbformat_minor": 5
}
